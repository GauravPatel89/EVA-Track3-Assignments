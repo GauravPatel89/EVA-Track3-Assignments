{
  "nbformat": 4,
  "nbformat_minor": 0,
  "metadata": {
    "colab": {
      "name": "Session5_L2Corrected.ipynb",
      "provenance": [],
      "collapsed_sections": [],
      "include_colab_link": true
    },
    "kernelspec": {
      "name": "python3",
      "display_name": "Python 3"
    },
    "accelerator": "GPU"
  },
  "cells": [
    {
      "cell_type": "markdown",
      "metadata": {
        "id": "view-in-github",
        "colab_type": "text"
      },
      "source": [
        "<a href=\"https://colab.research.google.com/github/GauravPatel89/EVA-Track3-Assignments/blob/master/Session5/Session5_L2Corrected.ipynb\" target=\"_parent\"><img src=\"https://colab.research.google.com/assets/colab-badge.svg\" alt=\"Open In Colab\"/></a>"
      ]
    },
    {
      "cell_type": "code",
      "metadata": {
        "id": "3m3w1Cw49Zkt",
        "colab_type": "code",
        "outputId": "666e187b-ddd0-429f-b138-65f6636d5f8a",
        "colab": {
          "base_uri": "https://localhost:8080/",
          "height": 83
        }
      },
      "source": [
        "# Import keras\n",
        "\n",
        "import keras"
      ],
      "execution_count": 1,
      "outputs": [
        {
          "output_type": "stream",
          "text": [
            "Using TensorFlow backend.\n"
          ],
          "name": "stderr"
        },
        {
          "output_type": "display_data",
          "data": {
            "text/html": [
              "<p style=\"color: red;\">\n",
              "The default version of TensorFlow in Colab will soon switch to TensorFlow 2.x.<br>\n",
              "We recommend you <a href=\"https://www.tensorflow.org/guide/migrate\" target=\"_blank\">upgrade</a> now \n",
              "or ensure your notebook will continue to use TensorFlow 1.x via the <code>%tensorflow_version 1.x</code> magic:\n",
              "<a href=\"https://colab.research.google.com/notebooks/tensorflow_version.ipynb\" target=\"_blank\">more info</a>.</p>\n"
            ],
            "text/plain": [
              "<IPython.core.display.HTML object>"
            ]
          },
          "metadata": {
            "tags": []
          }
        }
      ]
    },
    {
      "cell_type": "markdown",
      "metadata": {
        "id": "mysmkrBjl8b0",
        "colab_type": "text"
      },
      "source": [
        "Import the different packages to use in our code.\n",
        "\n",
        "Last line imports the MNIST dataset"
      ]
    },
    {
      "cell_type": "code",
      "metadata": {
        "id": "Eso6UHE080D4",
        "colab_type": "code",
        "colab": {}
      },
      "source": [
        "#Import different packages to use in our code\n",
        "\n",
        "import numpy as np\n",
        "\n",
        "from keras.models import Sequential\n",
        "from keras.layers import Dense, Dropout, Activation, Flatten, Add, BatchNormalization\n",
        "from keras.layers import Convolution2D, MaxPooling2D\n",
        "from keras.utils import np_utils\n",
        "from keras.callbacks import EarlyStopping, ModelCheckpoint,Callback\n",
        "from keras.preprocessing.image import ImageDataGenerator\n",
        "\n",
        "#Import MNIST dataset to use in our code\n",
        "from keras.datasets import mnist"
      ],
      "execution_count": 0,
      "outputs": []
    },
    {
      "cell_type": "markdown",
      "metadata": {
        "id": "zByEi95J86RD",
        "colab_type": "text"
      },
      "source": [
        "### Load pre-shuffled MNIST data into train and test sets\n",
        "\n",
        "Load MNIST dataset\n",
        "\n",
        "X_train - input training data\n",
        "\n",
        "y_train - training outputs corresponding to X_train\n",
        "\n",
        "X_test - input testing data\n",
        "\n",
        "y_test - testing outputs corresponding to X_test"
      ]
    },
    {
      "cell_type": "code",
      "metadata": {
        "id": "7eRM0QWN83PV",
        "colab_type": "code",
        "outputId": "f21e2daf-beca-4886-8e00-8024c8c17c5f",
        "colab": {
          "base_uri": "https://localhost:8080/",
          "height": 54
        }
      },
      "source": [
        "(X_train, y_train), (X_test, y_test) = mnist.load_data()\n",
        "\n",
        "XTest = X_test   # make a copy of X_test as we will be modifying X_test"
      ],
      "execution_count": 3,
      "outputs": [
        {
          "output_type": "stream",
          "text": [
            "Downloading data from https://s3.amazonaws.com/img-datasets/mnist.npz\n",
            "11493376/11490434 [==============================] - 1s 0us/step\n"
          ],
          "name": "stdout"
        }
      ]
    },
    {
      "cell_type": "markdown",
      "metadata": {
        "id": "evenqcZ0owVA",
        "colab_type": "text"
      },
      "source": [
        "Change the dimensionality of X_train and X_test from 60000x28x28 to 60000x28x28x1\n",
        "We are adding one more level of dimension to the input. "
      ]
    },
    {
      "cell_type": "code",
      "metadata": {
        "id": "dkmprriw9AnZ",
        "colab_type": "code",
        "colab": {}
      },
      "source": [
        "X_train = X_train.reshape(X_train.shape[0], 28, 28,1)\n",
        "X_test = X_test.reshape(X_test.shape[0], 28, 28,1)"
      ],
      "execution_count": 0,
      "outputs": []
    },
    {
      "cell_type": "code",
      "metadata": {
        "id": "X2m4YS4E9CRh",
        "colab_type": "code",
        "colab": {}
      },
      "source": [
        "# Image standardization (Divide all the pixel values by max pixel values)\n",
        "X_train = X_train.astype('float32')\n",
        "X_test = X_test.astype('float32')\n",
        "X_train /= 255\n",
        "X_test /= 255"
      ],
      "execution_count": 0,
      "outputs": []
    },
    {
      "cell_type": "markdown",
      "metadata": {
        "id": "_XwhiD4So9Gs",
        "colab_type": "text"
      },
      "source": [
        "Convert training and test output from simple class number to 'one hot encoding'. In this encoding we have as many bits as the number of classes.We have binary '1' for bit number corresponding to the class of the input. For other classes we have '0'.\n",
        "\n",
        "eg. '5' == '0 0 0 0 1 0 0 0 0 0' ; '10' == '0 0 0 0 0 0 0 0 0 1'"
      ]
    },
    {
      "cell_type": "code",
      "metadata": {
        "id": "ZG8JiXR39FHC",
        "colab_type": "code",
        "colab": {}
      },
      "source": [
        "Y_train = np_utils.to_categorical(y_train, 10)\n",
        "Y_test = np_utils.to_categorical(y_test, 10)"
      ],
      "execution_count": 0,
      "outputs": []
    },
    {
      "cell_type": "code",
      "metadata": {
        "id": "M1G4VQtd-s9X",
        "colab_type": "code",
        "outputId": "85931657-add1-4028-8f71-d541ca69d53d",
        "colab": {
          "base_uri": "https://localhost:8080/",
          "height": 90
        }
      },
      "source": [
        "# Image Normalization \n",
        "# use keras ImageDataGenerator. \n",
        "# 'featurewise_center' function subtracts batch mean from all the batch images to make it zero mean\n",
        "# 'featurewise_std_normalization' function divides batch images with std of batch. \n",
        "\n",
        "datagen = ImageDataGenerator(featurewise_center=True, featurewise_std_normalization=True)\n",
        "\n",
        "# Fit dataGenerator to X_train. This calculates stats for X_train.\n",
        "datagen.fit(X_train)\n",
        "\n",
        "# Verify Data normalization\n",
        "print('Before Normalization')\n",
        "print('Training Data Mean: {}  Std: {}'.format(datagen.mean,datagen.std))\n",
        "\n",
        "print('After Normalization')\n",
        "temp_iterator = datagen.flow(X_train, Y_train, batch_size=len(X_train))\n",
        "batchX, batchy = temp_iterator.next()\n",
        "print('Training Data Mean: {}  Std: {}'.format(batchX.mean(),batchX.std()))\n",
        "\n"
      ],
      "execution_count": 7,
      "outputs": [
        {
          "output_type": "stream",
          "text": [
            "Before Normalization\n",
            "Training Data Mean: [[[0.13066062]]]  Std: [[[0.30810776]]]\n",
            "After Normalization\n",
            "Training Data Mean: -4.930901695843204e-07  Std: 0.9999963045120239\n"
          ],
          "name": "stdout"
        }
      ]
    },
    {
      "cell_type": "code",
      "metadata": {
        "id": "Uxf_P8tqN4CM",
        "colab_type": "code",
        "outputId": "39382d68-66bf-47a7-c667-f814d5f9a434",
        "colab": {
          "base_uri": "https://localhost:8080/",
          "height": 34
        }
      },
      "source": [
        "print(batchX.shape)"
      ],
      "execution_count": 0,
      "outputs": [
        {
          "output_type": "stream",
          "text": [
            "(60000, 28, 28, 1)\n"
          ],
          "name": "stdout"
        }
      ]
    },
    {
      "cell_type": "code",
      "metadata": {
        "colab_type": "code",
        "outputId": "1fa479e6-5693-4395-faec-e62e11a0a93a",
        "id": "O4Dmc3Qdi-Zz",
        "colab": {
          "base_uri": "https://localhost:8080/",
          "height": 1000
        }
      },
      "source": [
        "# Create a model\n",
        "model = Sequential()\n",
        "                                                                              # RF = 1x1    i/p = 28x28x1     \n",
        "model.add(Convolution2D(8, 3, 3, input_shape=(28,28,1)))  # RF = 3x3    i/p = 28x28x1  kernel = (3x3x1)x8   o/p = 26x26x8\n",
        "model.add(BatchNormalization())      # Batch Normalization\n",
        "model.add(Activation('relu'))        # ReLU activation\n",
        "model.add(Dropout(0.05))             # DropOut 5%\n",
        "\n",
        "model.add(Convolution2D(12, 3, 3))                        # RF = 5x5    i/p = 26x26x1  kernel = (3x3x8)x12  o/p = 24x24x12\n",
        "model.add(BatchNormalization())      # Batch Normalization\n",
        "model.add(Activation('relu'))        # ReLU activation\n",
        "model.add(Dropout(0.08))             # DropOut 8%\n",
        "\n",
        "# 1x1 Conv\n",
        "model.add(Convolution2D(8, 1, activation='relu'))                            # RF = 5x5    i/p = 24x24x12 kernel = (1x1x12)x8  o/p = 24x24x8\n",
        "# 2x2 MaxPooling\n",
        "model.add(MaxPooling2D(pool_size=(2, 2)))                                    # RF = 10x10  i/p = 24x24x8  kernel = MaxPool2x2  o/p = 12x12x8\n",
        "\n",
        "model.add(Convolution2D(12, 3, 3))                        # RF = 12x12  i/p = 12x12x8  kernel = (3x3x8)x12  o/p = 10x10x12\n",
        "model.add(BatchNormalization())      # Batch Normalization\n",
        "model.add(Activation('relu'))        # ReLU activation\n",
        "model.add(Dropout(0.08))             # DropOut 8%\n",
        "\n",
        "model.add(Convolution2D(12, 3, 3))                        # RF = 14x14  i/p = 10x10x12 kernel = (3x3x12)x12 o/p = 8x8x12\n",
        "model.add(BatchNormalization())      # Batch Normalization\n",
        "model.add(Activation('relu'))        # ReLU activation\n",
        "model.add(Dropout(0.08))             # DropOut 8%\n",
        "\n",
        "model.add(Convolution2D(12, 3, 3))                        # RF = 16x16  i/p =  8x8x12  kernel = (3x3x12)x12 o/p = 6x6x12\n",
        "model.add(BatchNormalization())      # Batch Normalization\n",
        "model.add(Activation('relu'))        # ReLU activation\n",
        "model.add(Dropout(0.08))             # DropOut 8%\n",
        "\n",
        "# 1x1 Conv\n",
        "model.add(Convolution2D(12, 1))                           # RF = 16x16  i/p = 6x6x12   kernel = (1x1x12)x12 o/p = 6x6x12\n",
        "model.add(BatchNormalization())      # Batch Normalization\n",
        "model.add(Activation('relu'))        # ReLU activation\n",
        "model.add(Dropout(0.08))             # DropOut 8%\n",
        "\n",
        "model.add(Convolution2D(10, 6, 6))                                           # RF = 21x21  i/p = 6x6x12   kernel = (6x6x12)x10 o/p = 1x1x10\n",
        "\n",
        "model.add(Flatten())                                                         # flatten the 1x1x10 array into 10x1 array\n",
        "model.add(Activation('softmax'))                                             # apply the softmax function to obtain classification weights\n",
        "\n",
        "model.summary()   #Show model information"
      ],
      "execution_count": 8,
      "outputs": [
        {
          "output_type": "stream",
          "text": [
            "WARNING:tensorflow:From /usr/local/lib/python3.6/dist-packages/keras/backend/tensorflow_backend.py:66: The name tf.get_default_graph is deprecated. Please use tf.compat.v1.get_default_graph instead.\n",
            "\n",
            "WARNING:tensorflow:From /usr/local/lib/python3.6/dist-packages/keras/backend/tensorflow_backend.py:541: The name tf.placeholder is deprecated. Please use tf.compat.v1.placeholder instead.\n",
            "\n",
            "WARNING:tensorflow:From /usr/local/lib/python3.6/dist-packages/keras/backend/tensorflow_backend.py:4432: The name tf.random_uniform is deprecated. Please use tf.random.uniform instead.\n",
            "\n",
            "WARNING:tensorflow:From /usr/local/lib/python3.6/dist-packages/keras/backend/tensorflow_backend.py:190: The name tf.get_default_session is deprecated. Please use tf.compat.v1.get_default_session instead.\n",
            "\n",
            "WARNING:tensorflow:From /usr/local/lib/python3.6/dist-packages/keras/backend/tensorflow_backend.py:197: The name tf.ConfigProto is deprecated. Please use tf.compat.v1.ConfigProto instead.\n",
            "\n",
            "WARNING:tensorflow:From /usr/local/lib/python3.6/dist-packages/keras/backend/tensorflow_backend.py:203: The name tf.Session is deprecated. Please use tf.compat.v1.Session instead.\n",
            "\n"
          ],
          "name": "stdout"
        },
        {
          "output_type": "stream",
          "text": [
            "/usr/local/lib/python3.6/dist-packages/ipykernel_launcher.py:3: UserWarning: Update your `Conv2D` call to the Keras 2 API: `Conv2D(8, (3, 3), input_shape=(28, 28, 1...)`\n",
            "  This is separate from the ipykernel package so we can avoid doing imports until\n"
          ],
          "name": "stderr"
        },
        {
          "output_type": "stream",
          "text": [
            "WARNING:tensorflow:From /usr/local/lib/python3.6/dist-packages/keras/backend/tensorflow_backend.py:207: The name tf.global_variables is deprecated. Please use tf.compat.v1.global_variables instead.\n",
            "\n",
            "WARNING:tensorflow:From /usr/local/lib/python3.6/dist-packages/keras/backend/tensorflow_backend.py:216: The name tf.is_variable_initialized is deprecated. Please use tf.compat.v1.is_variable_initialized instead.\n",
            "\n",
            "WARNING:tensorflow:From /usr/local/lib/python3.6/dist-packages/keras/backend/tensorflow_backend.py:223: The name tf.variables_initializer is deprecated. Please use tf.compat.v1.variables_initializer instead.\n",
            "\n",
            "WARNING:tensorflow:From /usr/local/lib/python3.6/dist-packages/keras/backend/tensorflow_backend.py:2041: The name tf.nn.fused_batch_norm is deprecated. Please use tf.compat.v1.nn.fused_batch_norm instead.\n",
            "\n",
            "WARNING:tensorflow:From /usr/local/lib/python3.6/dist-packages/keras/backend/tensorflow_backend.py:148: The name tf.placeholder_with_default is deprecated. Please use tf.compat.v1.placeholder_with_default instead.\n",
            "\n",
            "WARNING:tensorflow:From /usr/local/lib/python3.6/dist-packages/keras/backend/tensorflow_backend.py:3733: calling dropout (from tensorflow.python.ops.nn_ops) with keep_prob is deprecated and will be removed in a future version.\n",
            "Instructions for updating:\n",
            "Please use `rate` instead of `keep_prob`. Rate should be set to `rate = 1 - keep_prob`.\n",
            "WARNING:tensorflow:From /usr/local/lib/python3.6/dist-packages/keras/backend/tensorflow_backend.py:4267: The name tf.nn.max_pool is deprecated. Please use tf.nn.max_pool2d instead.\n",
            "\n"
          ],
          "name": "stdout"
        },
        {
          "output_type": "stream",
          "text": [
            "/usr/local/lib/python3.6/dist-packages/ipykernel_launcher.py:8: UserWarning: Update your `Conv2D` call to the Keras 2 API: `Conv2D(12, (3, 3))`\n",
            "  \n",
            "/usr/local/lib/python3.6/dist-packages/ipykernel_launcher.py:18: UserWarning: Update your `Conv2D` call to the Keras 2 API: `Conv2D(12, (3, 3))`\n",
            "/usr/local/lib/python3.6/dist-packages/ipykernel_launcher.py:23: UserWarning: Update your `Conv2D` call to the Keras 2 API: `Conv2D(12, (3, 3))`\n"
          ],
          "name": "stderr"
        },
        {
          "output_type": "stream",
          "text": [
            "Model: \"sequential_1\"\n",
            "_________________________________________________________________\n",
            "Layer (type)                 Output Shape              Param #   \n",
            "=================================================================\n",
            "conv2d_1 (Conv2D)            (None, 26, 26, 8)         80        \n",
            "_________________________________________________________________\n",
            "batch_normalization_1 (Batch (None, 26, 26, 8)         32        \n",
            "_________________________________________________________________\n",
            "activation_1 (Activation)    (None, 26, 26, 8)         0         \n",
            "_________________________________________________________________\n",
            "dropout_1 (Dropout)          (None, 26, 26, 8)         0         \n",
            "_________________________________________________________________\n",
            "conv2d_2 (Conv2D)            (None, 24, 24, 12)        876       \n",
            "_________________________________________________________________\n",
            "batch_normalization_2 (Batch (None, 24, 24, 12)        48        \n",
            "_________________________________________________________________\n",
            "activation_2 (Activation)    (None, 24, 24, 12)        0         \n",
            "_________________________________________________________________\n",
            "dropout_2 (Dropout)          (None, 24, 24, 12)        0         \n",
            "_________________________________________________________________\n",
            "conv2d_3 (Conv2D)            (None, 24, 24, 8)         104       \n",
            "_________________________________________________________________\n",
            "max_pooling2d_1 (MaxPooling2 (None, 12, 12, 8)         0         \n",
            "_________________________________________________________________\n",
            "conv2d_4 (Conv2D)            (None, 10, 10, 12)        876       \n",
            "_________________________________________________________________\n",
            "batch_normalization_3 (Batch (None, 10, 10, 12)        48        \n",
            "_________________________________________________________________\n",
            "activation_3 (Activation)    (None, 10, 10, 12)        0         \n",
            "_________________________________________________________________\n",
            "dropout_3 (Dropout)          (None, 10, 10, 12)        0         \n",
            "_________________________________________________________________\n",
            "conv2d_5 (Conv2D)            (None, 8, 8, 12)          1308      \n",
            "_________________________________________________________________\n",
            "batch_normalization_4 (Batch (None, 8, 8, 12)          48        \n",
            "_________________________________________________________________\n",
            "activation_4 (Activation)    (None, 8, 8, 12)          0         \n",
            "_________________________________________________________________\n",
            "dropout_4 (Dropout)          (None, 8, 8, 12)          0         \n",
            "_________________________________________________________________\n",
            "conv2d_6 (Conv2D)            (None, 6, 6, 12)          1308      \n",
            "_________________________________________________________________\n",
            "batch_normalization_5 (Batch (None, 6, 6, 12)          48        \n",
            "_________________________________________________________________\n",
            "activation_5 (Activation)    (None, 6, 6, 12)          0         \n",
            "_________________________________________________________________\n",
            "dropout_5 (Dropout)          (None, 6, 6, 12)          0         \n",
            "_________________________________________________________________\n",
            "conv2d_7 (Conv2D)            (None, 6, 6, 12)          156       \n",
            "_________________________________________________________________\n",
            "batch_normalization_6 (Batch (None, 6, 6, 12)          48        \n",
            "_________________________________________________________________\n",
            "activation_6 (Activation)    (None, 6, 6, 12)          0         \n",
            "_________________________________________________________________\n",
            "dropout_6 (Dropout)          (None, 6, 6, 12)          0         \n",
            "_________________________________________________________________\n",
            "conv2d_8 (Conv2D)            (None, 1, 1, 10)          4330      \n",
            "_________________________________________________________________\n",
            "flatten_1 (Flatten)          (None, 10)                0         \n",
            "_________________________________________________________________\n",
            "activation_7 (Activation)    (None, 10)                0         \n",
            "=================================================================\n",
            "Total params: 9,310\n",
            "Trainable params: 9,174\n",
            "Non-trainable params: 136\n",
            "_________________________________________________________________\n"
          ],
          "name": "stdout"
        },
        {
          "output_type": "stream",
          "text": [
            "/usr/local/lib/python3.6/dist-packages/ipykernel_launcher.py:28: UserWarning: Update your `Conv2D` call to the Keras 2 API: `Conv2D(12, (3, 3))`\n",
            "/usr/local/lib/python3.6/dist-packages/ipykernel_launcher.py:39: UserWarning: Update your `Conv2D` call to the Keras 2 API: `Conv2D(10, (6, 6))`\n"
          ],
          "name": "stderr"
        }
      ]
    },
    {
      "cell_type": "code",
      "metadata": {
        "id": "QInAnfJDopva",
        "colab_type": "code",
        "outputId": "50f3a16d-2548-4865-a92f-b072c7e7ba2d",
        "colab": {
          "base_uri": "https://localhost:8080/",
          "height": 129
        }
      },
      "source": [
        "# Setup checkpoint callback\n",
        "\n",
        "from google.colab import drive\n",
        "from keras.callbacks import ModelCheckpoint\n",
        "\n",
        "# mount google drive to save best model \n",
        "drive.mount('/content/gdrive')\n",
        "\n",
        "\n",
        "#fileName = '/content/gdrive/My Drive/TSAI/Session5/Model-{epoch:02d}-{val_acc:.4f}.hdf5'\n",
        "# File name of best model\n",
        "fileName = '/content/gdrive/My Drive/TSAI/Session5/Best-Model2.hdf5'\n",
        "# Monitor Validation accuracy and each time accuracy improves, overwrite the model in 'fileName' \n",
        "checkpoint = ModelCheckpoint(fileName,monitor='val_acc', verbose=1, save_best_only=True, mode='auto')"
      ],
      "execution_count": 9,
      "outputs": [
        {
          "output_type": "stream",
          "text": [
            "Go to this URL in a browser: https://accounts.google.com/o/oauth2/auth?client_id=947318989803-6bn6qk8qdgf4n4g3pfee6491hc0brc4i.apps.googleusercontent.com&redirect_uri=urn%3aietf%3awg%3aoauth%3a2.0%3aoob&response_type=code&scope=email%20https%3a%2f%2fwww.googleapis.com%2fauth%2fdocs.test%20https%3a%2f%2fwww.googleapis.com%2fauth%2fdrive%20https%3a%2f%2fwww.googleapis.com%2fauth%2fdrive.photos.readonly%20https%3a%2f%2fwww.googleapis.com%2fauth%2fpeopleapi.readonly\n",
            "\n",
            "Enter your authorization code:\n",
            "··········\n",
            "Mounted at /content/gdrive\n"
          ],
          "name": "stdout"
        }
      ]
    },
    {
      "cell_type": "code",
      "metadata": {
        "id": "F5PapbwrhNXY",
        "colab_type": "code",
        "colab": {}
      },
      "source": [
        "# Define custom loss function in this code block\n",
        "\n",
        "import keras.backend as K\n",
        "def custom_Loss(BatchSize,lamda):\n",
        "  \n",
        "  def L2Norm_Added_Loss(y_true,y_pred): \n",
        "    \n",
        "    # Calculate L2 norm for given Model Layers\n",
        "    def L2_From_Layers(modelLayers):\n",
        "      numOfWts = 0\n",
        "      wtSqSum = 0\n",
        "      # Traverse each layer in the model\n",
        "      for layer in modelLayers:\n",
        "        # traverse each array of the layer\n",
        "        for arr in (layer.get_weights()):     \n",
        "          wtSqSum += np.sum(np.sum(np.square(arr)))       # sum of squares of all the weights\n",
        "          numOfWts += arr.size                            # calculate number of weights\n",
        "      print(y_true.shape[0])\n",
        "      L2Norm = wtSqSum / (2*BatchSize)                     # Calculate L2 Norm according to equation\n",
        "      return L2Norm\n",
        "    \n",
        "    # we add L2 Norm to crossentropy loss to define new loss function\n",
        "    totalLoss = K.categorical_crossentropy(y_true,y_pred) + lamda * L2_From_Layers(model.layers)\n",
        "    #totalLoss = lamda * L2_From_Layers(model.layers)\n",
        "    return totalLoss\n",
        "\n",
        "  return L2Norm_Added_Loss"
      ],
      "execution_count": 0,
      "outputs": []
    },
    {
      "cell_type": "code",
      "metadata": {
        "colab_type": "code",
        "outputId": "86828b65-4bb1-4706-f0a0-ac2bd544b3f3",
        "id": "Fkr7JElm-sFd",
        "colab": {
          "base_uri": "https://localhost:8080/",
          "height": 1000
        }
      },
      "source": [
        "from keras.optimizers import Adam\n",
        "from keras.callbacks import LearningRateScheduler\n",
        "\n",
        "# define learning rate scheduler. It varies learning rate with epoch value\n",
        "def scheduler(epoch, lr):\n",
        "  return round(0.009 * 1/(1 + 0.9 * epoch), 10)\n",
        "\n",
        "BS=128\n",
        "\n",
        "model.compile(loss=custom_Loss(BS,0.03), optimizer=Adam(lr=0.009), metrics=['accuracy'])\n",
        "\n",
        "\n",
        "# Define how should ImageDataGenerator provide training batch and test batch with defined image augmentation\n",
        "\n",
        "train_iterator = datagen.flow(X_train, Y_train, batch_size = BS,shuffle=True)\n",
        "test_iterator = datagen.flow(X_test, Y_test, batch_size=len(X_test),shuffle=False)\n",
        "\n",
        "#Train the model for 40 epochs with batch generated by ImageDataGenrator\n",
        "\n",
        "#model.fit(X_train, Y_train, batch_size=128, epochs=5, verbose=1, validation_data=(X_test, Y_test), callbacks=[LearningRateScheduler(scheduler, verbose=1)])\n",
        "model.fit_generator(train_iterator, steps_per_epoch=(len(X_train)//BS), epochs=40, verbose=1, validation_data = test_iterator, validation_steps = 1,\n",
        "                    callbacks=[LearningRateScheduler(scheduler, verbose=1),checkpoint])"
      ],
      "execution_count": 17,
      "outputs": [
        {
          "output_type": "stream",
          "text": [
            "WARNING:tensorflow:From /usr/local/lib/python3.6/dist-packages/keras/optimizers.py:793: The name tf.train.Optimizer is deprecated. Please use tf.compat.v1.train.Optimizer instead.\n",
            "\n"
          ],
          "name": "stdout"
        },
        {
          "output_type": "stream",
          "text": [
            "WARNING:tensorflow:From /usr/local/lib/python3.6/dist-packages/keras/optimizers.py:793: The name tf.train.Optimizer is deprecated. Please use tf.compat.v1.train.Optimizer instead.\n",
            "\n"
          ],
          "name": "stderr"
        },
        {
          "output_type": "stream",
          "text": [
            "WARNING:tensorflow:From /usr/local/lib/python3.6/dist-packages/keras/backend/tensorflow_backend.py:3576: The name tf.log is deprecated. Please use tf.math.log instead.\n",
            "\n"
          ],
          "name": "stdout"
        },
        {
          "output_type": "stream",
          "text": [
            "WARNING:tensorflow:From /usr/local/lib/python3.6/dist-packages/keras/backend/tensorflow_backend.py:3576: The name tf.log is deprecated. Please use tf.math.log instead.\n",
            "\n"
          ],
          "name": "stderr"
        },
        {
          "output_type": "stream",
          "text": [
            "?\n",
            "WARNING:tensorflow:From /usr/local/lib/python3.6/dist-packages/tensorflow_core/python/ops/math_grad.py:1424: where (from tensorflow.python.ops.array_ops) is deprecated and will be removed in a future version.\n",
            "Instructions for updating:\n",
            "Use tf.where in 2.0, which has the same broadcast rule as np.where\n"
          ],
          "name": "stdout"
        },
        {
          "output_type": "stream",
          "text": [
            "WARNING:tensorflow:From /usr/local/lib/python3.6/dist-packages/tensorflow_core/python/ops/math_grad.py:1424: where (from tensorflow.python.ops.array_ops) is deprecated and will be removed in a future version.\n",
            "Instructions for updating:\n",
            "Use tf.where in 2.0, which has the same broadcast rule as np.where\n"
          ],
          "name": "stderr"
        },
        {
          "output_type": "stream",
          "text": [
            "WARNING:tensorflow:From /usr/local/lib/python3.6/dist-packages/keras/backend/tensorflow_backend.py:1033: The name tf.assign_add is deprecated. Please use tf.compat.v1.assign_add instead.\n",
            "\n"
          ],
          "name": "stdout"
        },
        {
          "output_type": "stream",
          "text": [
            "WARNING:tensorflow:From /usr/local/lib/python3.6/dist-packages/keras/backend/tensorflow_backend.py:1033: The name tf.assign_add is deprecated. Please use tf.compat.v1.assign_add instead.\n",
            "\n"
          ],
          "name": "stderr"
        },
        {
          "output_type": "stream",
          "text": [
            "WARNING:tensorflow:From /usr/local/lib/python3.6/dist-packages/keras/backend/tensorflow_backend.py:1020: The name tf.assign is deprecated. Please use tf.compat.v1.assign instead.\n",
            "\n"
          ],
          "name": "stdout"
        },
        {
          "output_type": "stream",
          "text": [
            "WARNING:tensorflow:From /usr/local/lib/python3.6/dist-packages/keras/backend/tensorflow_backend.py:1020: The name tf.assign is deprecated. Please use tf.compat.v1.assign instead.\n",
            "\n"
          ],
          "name": "stderr"
        },
        {
          "output_type": "stream",
          "text": [
            "Epoch 1/40\n",
            "\n",
            "Epoch 00001: LearningRateScheduler setting learning rate to 0.009.\n",
            "468/468 [==============================] - 12s 26ms/step - loss: 0.2022 - acc: 0.9436 - val_loss: 0.0932 - val_acc: 0.9797\n",
            "\n",
            "Epoch 00001: val_acc improved from -inf to 0.97970, saving model to /content/gdrive/My Drive/TSAI/Session5/Best-Model2.hdf5\n",
            "Epoch 2/40\n",
            "\n",
            "Epoch 00002: LearningRateScheduler setting learning rate to 0.0047368421.\n",
            "468/468 [==============================] - 6s 14ms/step - loss: 0.0847 - acc: 0.9811 - val_loss: 0.0654 - val_acc: 0.9868\n",
            "\n",
            "Epoch 00002: val_acc improved from 0.97970 to 0.98680, saving model to /content/gdrive/My Drive/TSAI/Session5/Best-Model2.hdf5\n",
            "Epoch 3/40\n",
            "\n",
            "Epoch 00003: LearningRateScheduler setting learning rate to 0.0032142857.\n",
            "468/468 [==============================] - 7s 14ms/step - loss: 0.0727 - acc: 0.9845 - val_loss: 0.0629 - val_acc: 0.9881\n",
            "\n",
            "Epoch 00003: val_acc improved from 0.98680 to 0.98810, saving model to /content/gdrive/My Drive/TSAI/Session5/Best-Model2.hdf5\n",
            "Epoch 4/40\n",
            "\n",
            "Epoch 00004: LearningRateScheduler setting learning rate to 0.0024324324.\n",
            "468/468 [==============================] - 7s 14ms/step - loss: 0.0683 - acc: 0.9861 - val_loss: 0.0546 - val_acc: 0.9906\n",
            "\n",
            "Epoch 00004: val_acc improved from 0.98810 to 0.99060, saving model to /content/gdrive/My Drive/TSAI/Session5/Best-Model2.hdf5\n",
            "Epoch 5/40\n",
            "\n",
            "Epoch 00005: LearningRateScheduler setting learning rate to 0.0019565217.\n",
            "468/468 [==============================] - 7s 15ms/step - loss: 0.0617 - acc: 0.9880 - val_loss: 0.0568 - val_acc: 0.9893\n",
            "\n",
            "Epoch 00005: val_acc did not improve from 0.99060\n",
            "Epoch 6/40\n",
            "\n",
            "Epoch 00006: LearningRateScheduler setting learning rate to 0.0016363636.\n",
            "468/468 [==============================] - 7s 14ms/step - loss: 0.0591 - acc: 0.9891 - val_loss: 0.0573 - val_acc: 0.9906\n",
            "\n",
            "Epoch 00006: val_acc did not improve from 0.99060\n",
            "Epoch 7/40\n",
            "\n",
            "Epoch 00007: LearningRateScheduler setting learning rate to 0.00140625.\n",
            "468/468 [==============================] - 6s 14ms/step - loss: 0.0575 - acc: 0.9894 - val_loss: 0.0518 - val_acc: 0.9916\n",
            "\n",
            "Epoch 00007: val_acc improved from 0.99060 to 0.99160, saving model to /content/gdrive/My Drive/TSAI/Session5/Best-Model2.hdf5\n",
            "Epoch 8/40\n",
            "\n",
            "Epoch 00008: LearningRateScheduler setting learning rate to 0.0012328767.\n",
            "468/468 [==============================] - 7s 14ms/step - loss: 0.0553 - acc: 0.9897 - val_loss: 0.0546 - val_acc: 0.9915\n",
            "\n",
            "Epoch 00008: val_acc did not improve from 0.99160\n",
            "Epoch 9/40\n",
            "\n",
            "Epoch 00009: LearningRateScheduler setting learning rate to 0.001097561.\n",
            "468/468 [==============================] - 7s 14ms/step - loss: 0.0542 - acc: 0.9904 - val_loss: 0.0493 - val_acc: 0.9919\n",
            "\n",
            "Epoch 00009: val_acc improved from 0.99160 to 0.99190, saving model to /content/gdrive/My Drive/TSAI/Session5/Best-Model2.hdf5\n",
            "Epoch 10/40\n",
            "\n",
            "Epoch 00010: LearningRateScheduler setting learning rate to 0.000989011.\n",
            "468/468 [==============================] - 7s 14ms/step - loss: 0.0536 - acc: 0.9911 - val_loss: 0.0490 - val_acc: 0.9928\n",
            "\n",
            "Epoch 00010: val_acc improved from 0.99190 to 0.99280, saving model to /content/gdrive/My Drive/TSAI/Session5/Best-Model2.hdf5\n",
            "Epoch 11/40\n",
            "\n",
            "Epoch 00011: LearningRateScheduler setting learning rate to 0.0009.\n",
            "468/468 [==============================] - 6s 14ms/step - loss: 0.0510 - acc: 0.9913 - val_loss: 0.0466 - val_acc: 0.9929\n",
            "\n",
            "Epoch 00011: val_acc improved from 0.99280 to 0.99290, saving model to /content/gdrive/My Drive/TSAI/Session5/Best-Model2.hdf5\n",
            "Epoch 12/40\n",
            "\n",
            "Epoch 00012: LearningRateScheduler setting learning rate to 0.0008256881.\n",
            "468/468 [==============================] - 7s 14ms/step - loss: 0.0513 - acc: 0.9918 - val_loss: 0.0501 - val_acc: 0.9919\n",
            "\n",
            "Epoch 00012: val_acc did not improve from 0.99290\n",
            "Epoch 13/40\n",
            "\n",
            "Epoch 00013: LearningRateScheduler setting learning rate to 0.0007627119.\n",
            "468/468 [==============================] - 6s 14ms/step - loss: 0.0503 - acc: 0.9918 - val_loss: 0.0495 - val_acc: 0.9932\n",
            "\n",
            "Epoch 00013: val_acc improved from 0.99290 to 0.99320, saving model to /content/gdrive/My Drive/TSAI/Session5/Best-Model2.hdf5\n",
            "Epoch 14/40\n",
            "\n",
            "Epoch 00014: LearningRateScheduler setting learning rate to 0.0007086614.\n",
            "468/468 [==============================] - 7s 14ms/step - loss: 0.0491 - acc: 0.9922 - val_loss: 0.0469 - val_acc: 0.9929\n",
            "\n",
            "Epoch 00014: val_acc did not improve from 0.99320\n",
            "Epoch 15/40\n",
            "\n",
            "Epoch 00015: LearningRateScheduler setting learning rate to 0.0006617647.\n",
            "468/468 [==============================] - 7s 14ms/step - loss: 0.0487 - acc: 0.9922 - val_loss: 0.0476 - val_acc: 0.9929\n",
            "\n",
            "Epoch 00015: val_acc did not improve from 0.99320\n",
            "Epoch 16/40\n",
            "\n",
            "Epoch 00016: LearningRateScheduler setting learning rate to 0.0006206897.\n",
            "468/468 [==============================] - 7s 14ms/step - loss: 0.0485 - acc: 0.9921 - val_loss: 0.0477 - val_acc: 0.9930\n",
            "\n",
            "Epoch 00016: val_acc did not improve from 0.99320\n",
            "Epoch 17/40\n",
            "\n",
            "Epoch 00017: LearningRateScheduler setting learning rate to 0.0005844156.\n",
            "468/468 [==============================] - 7s 14ms/step - loss: 0.0476 - acc: 0.9926 - val_loss: 0.0494 - val_acc: 0.9925\n",
            "\n",
            "Epoch 00017: val_acc did not improve from 0.99320\n",
            "Epoch 18/40\n",
            "\n",
            "Epoch 00018: LearningRateScheduler setting learning rate to 0.0005521472.\n",
            "468/468 [==============================] - 7s 14ms/step - loss: 0.0472 - acc: 0.9928 - val_loss: 0.0491 - val_acc: 0.9927\n",
            "\n",
            "Epoch 00018: val_acc did not improve from 0.99320\n",
            "Epoch 19/40\n",
            "\n",
            "Epoch 00019: LearningRateScheduler setting learning rate to 0.0005232558.\n",
            "468/468 [==============================] - 7s 14ms/step - loss: 0.0460 - acc: 0.9931 - val_loss: 0.0480 - val_acc: 0.9937\n",
            "\n",
            "Epoch 00019: val_acc improved from 0.99320 to 0.99370, saving model to /content/gdrive/My Drive/TSAI/Session5/Best-Model2.hdf5\n",
            "Epoch 20/40\n",
            "\n",
            "Epoch 00020: LearningRateScheduler setting learning rate to 0.0004972376.\n",
            "468/468 [==============================] - 7s 14ms/step - loss: 0.0472 - acc: 0.9927 - val_loss: 0.0465 - val_acc: 0.9932\n",
            "\n",
            "Epoch 00020: val_acc did not improve from 0.99370\n",
            "Epoch 21/40\n",
            "\n",
            "Epoch 00021: LearningRateScheduler setting learning rate to 0.0004736842.\n",
            "468/468 [==============================] - 7s 14ms/step - loss: 0.0452 - acc: 0.9933 - val_loss: 0.0466 - val_acc: 0.9938\n",
            "\n",
            "Epoch 00021: val_acc improved from 0.99370 to 0.99380, saving model to /content/gdrive/My Drive/TSAI/Session5/Best-Model2.hdf5\n",
            "Epoch 22/40\n",
            "\n",
            "Epoch 00022: LearningRateScheduler setting learning rate to 0.0004522613.\n",
            "468/468 [==============================] - 7s 14ms/step - loss: 0.0460 - acc: 0.9928 - val_loss: 0.0456 - val_acc: 0.9936\n",
            "\n",
            "Epoch 00022: val_acc did not improve from 0.99380\n",
            "Epoch 23/40\n",
            "\n",
            "Epoch 00023: LearningRateScheduler setting learning rate to 0.0004326923.\n",
            "468/468 [==============================] - 7s 14ms/step - loss: 0.0461 - acc: 0.9928 - val_loss: 0.0481 - val_acc: 0.9926\n",
            "\n",
            "Epoch 00023: val_acc did not improve from 0.99380\n",
            "Epoch 24/40\n",
            "\n",
            "Epoch 00024: LearningRateScheduler setting learning rate to 0.0004147465.\n",
            "468/468 [==============================] - 7s 14ms/step - loss: 0.0438 - acc: 0.9938 - val_loss: 0.0455 - val_acc: 0.9937\n",
            "\n",
            "Epoch 00024: val_acc did not improve from 0.99380\n",
            "Epoch 25/40\n",
            "\n",
            "Epoch 00025: LearningRateScheduler setting learning rate to 0.0003982301.\n",
            "468/468 [==============================] - 6s 14ms/step - loss: 0.0455 - acc: 0.9935 - val_loss: 0.0459 - val_acc: 0.9938\n",
            "\n",
            "Epoch 00025: val_acc did not improve from 0.99380\n",
            "Epoch 26/40\n",
            "\n",
            "Epoch 00026: LearningRateScheduler setting learning rate to 0.0003829787.\n",
            "468/468 [==============================] - 7s 14ms/step - loss: 0.0437 - acc: 0.9942 - val_loss: 0.0466 - val_acc: 0.9938\n",
            "\n",
            "Epoch 00026: val_acc did not improve from 0.99380\n",
            "Epoch 27/40\n",
            "\n",
            "Epoch 00027: LearningRateScheduler setting learning rate to 0.0003688525.\n",
            "468/468 [==============================] - 7s 14ms/step - loss: 0.0434 - acc: 0.9939 - val_loss: 0.0469 - val_acc: 0.9936\n",
            "\n",
            "Epoch 00027: val_acc did not improve from 0.99380\n",
            "Epoch 28/40\n",
            "\n",
            "Epoch 00028: LearningRateScheduler setting learning rate to 0.0003557312.\n",
            "468/468 [==============================] - 7s 14ms/step - loss: 0.0437 - acc: 0.9934 - val_loss: 0.0455 - val_acc: 0.9940\n",
            "\n",
            "Epoch 00028: val_acc improved from 0.99380 to 0.99400, saving model to /content/gdrive/My Drive/TSAI/Session5/Best-Model2.hdf5\n",
            "Epoch 29/40\n",
            "\n",
            "Epoch 00029: LearningRateScheduler setting learning rate to 0.0003435115.\n",
            "468/468 [==============================] - 7s 14ms/step - loss: 0.0433 - acc: 0.9940 - val_loss: 0.0466 - val_acc: 0.9937\n",
            "\n",
            "Epoch 00029: val_acc did not improve from 0.99400\n",
            "Epoch 30/40\n",
            "\n",
            "Epoch 00030: LearningRateScheduler setting learning rate to 0.0003321033.\n",
            "468/468 [==============================] - 7s 14ms/step - loss: 0.0437 - acc: 0.9941 - val_loss: 0.0464 - val_acc: 0.9935\n",
            "\n",
            "Epoch 00030: val_acc did not improve from 0.99400\n",
            "Epoch 31/40\n",
            "\n",
            "Epoch 00031: LearningRateScheduler setting learning rate to 0.0003214286.\n",
            "468/468 [==============================] - 7s 14ms/step - loss: 0.0437 - acc: 0.9937 - val_loss: 0.0461 - val_acc: 0.9935\n",
            "\n",
            "Epoch 00031: val_acc did not improve from 0.99400\n",
            "Epoch 32/40\n",
            "\n",
            "Epoch 00032: LearningRateScheduler setting learning rate to 0.0003114187.\n",
            "468/468 [==============================] - 7s 14ms/step - loss: 0.0431 - acc: 0.9935 - val_loss: 0.0466 - val_acc: 0.9936\n",
            "\n",
            "Epoch 00032: val_acc did not improve from 0.99400\n",
            "Epoch 33/40\n",
            "\n",
            "Epoch 00033: LearningRateScheduler setting learning rate to 0.0003020134.\n",
            "468/468 [==============================] - 7s 14ms/step - loss: 0.0444 - acc: 0.9935 - val_loss: 0.0463 - val_acc: 0.9936\n",
            "\n",
            "Epoch 00033: val_acc did not improve from 0.99400\n",
            "Epoch 34/40\n",
            "\n",
            "Epoch 00034: LearningRateScheduler setting learning rate to 0.0002931596.\n",
            "468/468 [==============================] - 7s 14ms/step - loss: 0.0440 - acc: 0.9936 - val_loss: 0.0471 - val_acc: 0.9934\n",
            "\n",
            "Epoch 00034: val_acc did not improve from 0.99400\n",
            "Epoch 35/40\n",
            "\n",
            "Epoch 00035: LearningRateScheduler setting learning rate to 0.0002848101.\n",
            "468/468 [==============================] - 7s 14ms/step - loss: 0.0436 - acc: 0.9938 - val_loss: 0.0458 - val_acc: 0.9936\n",
            "\n",
            "Epoch 00035: val_acc did not improve from 0.99400\n",
            "Epoch 36/40\n",
            "\n",
            "Epoch 00036: LearningRateScheduler setting learning rate to 0.0002769231.\n",
            "468/468 [==============================] - 7s 14ms/step - loss: 0.0431 - acc: 0.9938 - val_loss: 0.0456 - val_acc: 0.9938\n",
            "\n",
            "Epoch 00036: val_acc did not improve from 0.99400\n",
            "Epoch 37/40\n",
            "\n",
            "Epoch 00037: LearningRateScheduler setting learning rate to 0.0002694611.\n",
            "468/468 [==============================] - 7s 14ms/step - loss: 0.0433 - acc: 0.9938 - val_loss: 0.0455 - val_acc: 0.9939\n",
            "\n",
            "Epoch 00037: val_acc did not improve from 0.99400\n",
            "Epoch 38/40\n",
            "\n",
            "Epoch 00038: LearningRateScheduler setting learning rate to 0.0002623907.\n",
            "468/468 [==============================] - 6s 14ms/step - loss: 0.0425 - acc: 0.9942 - val_loss: 0.0458 - val_acc: 0.9938\n",
            "\n",
            "Epoch 00038: val_acc did not improve from 0.99400\n",
            "Epoch 39/40\n",
            "\n",
            "Epoch 00039: LearningRateScheduler setting learning rate to 0.0002556818.\n",
            "468/468 [==============================] - 7s 14ms/step - loss: 0.0414 - acc: 0.9944 - val_loss: 0.0462 - val_acc: 0.9941\n",
            "\n",
            "Epoch 00039: val_acc improved from 0.99400 to 0.99410, saving model to /content/gdrive/My Drive/TSAI/Session5/Best-Model2.hdf5\n",
            "Epoch 40/40\n",
            "\n",
            "Epoch 00040: LearningRateScheduler setting learning rate to 0.0002493075.\n",
            "468/468 [==============================] - 7s 14ms/step - loss: 0.0437 - acc: 0.9940 - val_loss: 0.0449 - val_acc: 0.9940\n",
            "\n",
            "Epoch 00040: val_acc did not improve from 0.99410\n"
          ],
          "name": "stdout"
        },
        {
          "output_type": "execute_result",
          "data": {
            "text/plain": [
              "<keras.callbacks.History at 0x7f2310be86d8>"
            ]
          },
          "metadata": {
            "tags": []
          },
          "execution_count": 17
        }
      ]
    },
    {
      "cell_type": "code",
      "metadata": {
        "colab_type": "code",
        "outputId": "da69431f-26a0-4d8a-bc9a-bf2663ccf9d9",
        "id": "4hZMN67d_qsb",
        "colab": {
          "base_uri": "https://localhost:8080/",
          "height": 954
        }
      },
      "source": [
        "import matplotlib.pyplot as plt\n",
        "\n",
        "# Load the best model saved during the training\n",
        "model.load_weights(\"/content/gdrive/My Drive/TSAI/Session5/Best-Model.hdf5\")\n",
        "\n",
        "# Generate an iterator to generated normalized testdata\n",
        "test_iterator = datagen.flow(X_test, Y_test, batch_size=len(X_test),shuffle=False)\n",
        "\n",
        "# Make pedictions for test data using the trained model\n",
        "y_pred = model.predict_generator(test_iterator,steps=1)\n",
        "\n",
        "# Get the actual class values from one hot encoded y_pred\n",
        "predictedDigits = np.argmax(y_pred,axis =1)\n",
        "\n",
        "# Set number of rows and columns for gallery of misclassified images\n",
        "rows = 5\n",
        "cols = 5\n",
        "\n",
        "# Generate a rows x cols sized image grid \n",
        "f, axarr = plt.subplots(rows,cols)\n",
        "\n",
        "i = 0\n",
        "count = 0\n",
        "while ((count < rows*cols) and (i < X_test.shape[0])):\n",
        "       if(predictedDigits[i] != y_test[i]):\n",
        "            axarr[count // rows][count % cols].imshow(XTest[i])\n",
        "            axarr[count // rows][count % cols].set_title('Predicted:{} / Actual:{}'.format(predictedDigits[i],y_test[i]),fontsize=12)\n",
        "            axarr[count // rows][count % cols].axis('off')\n",
        "            count += 1\n",
        "       \n",
        "       i +=  1\n",
        "             \n",
        "    \n",
        "f.subplots_adjust(hspace=0.2)    \n",
        "f.suptitle('List of Missclassified images', fontsize=25)\n",
        "f.set_size_inches(15,15)\n",
        "    \n",
        "    "
      ],
      "execution_count": 22,
      "outputs": [
        {
          "output_type": "display_data",
          "data": {
            "image/png": "[encoded data removed]",
            "text/plain": [
              "<Figure size 1080x1080 with 25 Axes>"
            ]
          },
          "metadata": {
            "tags": []
          }
        }
      ]
    },
    {
      "cell_type": "code",
      "metadata": {
        "id": "gxWGe3_TZbbs",
        "colab_type": "code",
        "colab": {}
      },
      "source": [
        ""
      ],
      "execution_count": 0,
      "outputs": []
    }
  ]
}