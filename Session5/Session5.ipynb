{
  "nbformat": 4,
  "nbformat_minor": 0,
  "metadata": {
    "colab": {
      "name": "Session5.ipynb",
      "provenance": [],
      "collapsed_sections": [],
      "include_colab_link": true
    },
    "kernelspec": {
      "name": "python3",
      "display_name": "Python 3"
    },
    "accelerator": "GPU"
  },
  "cells": [
    {
      "cell_type": "markdown",
      "metadata": {
        "id": "view-in-github",
        "colab_type": "text"
      },
      "source": [
        "<a href=\"https://colab.research.google.com/github/GauravPatel89/EVA-Track3-Assignments/blob/master/Session5/Session5.ipynb\" target=\"_parent\"><img src=\"https://colab.research.google.com/assets/colab-badge.svg\" alt=\"Open In Colab\"/></a>"
      ]
    },
    {
      "cell_type": "markdown",
      "metadata": {
        "id": "q1l5dG2pl1rT",
        "colab_type": "text"
      },
      "source": [
        "Following block installs keras in current runtime\n"
      ]
    },
    {
      "cell_type": "code",
      "metadata": {
        "id": "3m3w1Cw49Zkt",
        "colab_type": "code",
        "outputId": "18f19f76-a879-4ce4-da89-d7bb25cb9bc3",
        "colab": {
          "base_uri": "https://localhost:8080/",
          "height": 34
        }
      },
      "source": [
        "# https://keras.io/\n",
        "# !pip install -q keras\n",
        "import keras"
      ],
      "execution_count": 0,
      "outputs": [
        {
          "output_type": "stream",
          "text": [
            "Using TensorFlow backend.\n"
          ],
          "name": "stderr"
        }
      ]
    },
    {
      "cell_type": "markdown",
      "metadata": {
        "id": "mysmkrBjl8b0",
        "colab_type": "text"
      },
      "source": [
        "Import the different packages to use in our code.\n",
        "\n",
        "Last line imports the MNIST dataset"
      ]
    },
    {
      "cell_type": "code",
      "metadata": {
        "id": "Eso6UHE080D4",
        "colab_type": "code",
        "colab": {}
      },
      "source": [
        "import numpy as np\n",
        "\n",
        "from keras.models import Sequential\n",
        "from keras.layers import Dense, Dropout, Activation, Flatten, Add, BatchNormalization\n",
        "from keras.layers import Convolution2D, MaxPooling2D\n",
        "from keras.utils import np_utils\n",
        "from keras.callbacks import EarlyStopping, ModelCheckpoint,Callback\n",
        "from keras.preprocessing.image import ImageDataGenerator\n",
        "\n",
        "from keras.datasets import mnist"
      ],
      "execution_count": 0,
      "outputs": []
    },
    {
      "cell_type": "markdown",
      "metadata": {
        "id": "zByEi95J86RD",
        "colab_type": "text"
      },
      "source": [
        "### Load pre-shuffled MNIST data into train and test sets\n",
        "\n",
        "Load MNIST dataset\n",
        "\n",
        "X_train - input training data\n",
        "\n",
        "y_train - training outputs corresponding to X_train\n",
        "\n",
        "X_test - input testing data\n",
        "\n",
        "y_test - testing outputs corresponding to X_test"
      ]
    },
    {
      "cell_type": "code",
      "metadata": {
        "id": "7eRM0QWN83PV",
        "colab_type": "code",
        "colab": {}
      },
      "source": [
        "(X_train, y_train), (X_test, y_test) = mnist.load_data()\n",
        "\n",
        "XTest = X_test   # make a copy of X_test as we will be modifying X_test"
      ],
      "execution_count": 0,
      "outputs": []
    },
    {
      "cell_type": "markdown",
      "metadata": {
        "id": "evenqcZ0owVA",
        "colab_type": "text"
      },
      "source": [
        "Change the size of X_train and X_test from 60000x28x28 to 60000x28x28x1\n",
        "We are adding one more level of dimension to the input. "
      ]
    },
    {
      "cell_type": "code",
      "metadata": {
        "id": "dkmprriw9AnZ",
        "colab_type": "code",
        "colab": {}
      },
      "source": [
        "X_train = X_train.reshape(X_train.shape[0], 28, 28,1)\n",
        "X_test = X_test.reshape(X_test.shape[0], 28, 28,1)"
      ],
      "execution_count": 0,
      "outputs": []
    },
    {
      "cell_type": "markdown",
      "metadata": {
        "id": "xYf5dktQo0T3",
        "colab_type": "text"
      },
      "source": [
        "Right now dataset loaded is of type uint8. Each pixel is integer of size 8 bit. We first convert training data to float of size 32 bits.\n",
        "\n",
        "To standardize the image data we divide all the pixels by 255 i.e. highest 8bit value for a pixel. After the division all the pixel values are between 0.0 and 1.0 float32."
      ]
    },
    {
      "cell_type": "code",
      "metadata": {
        "id": "X2m4YS4E9CRh",
        "colab_type": "code",
        "colab": {}
      },
      "source": [
        "# image standardization\n",
        "X_train = X_train.astype('float32')\n",
        "X_test = X_test.astype('float32')\n",
        "X_train /= 255\n",
        "X_test /= 255"
      ],
      "execution_count": 0,
      "outputs": []
    },
    {
      "cell_type": "markdown",
      "metadata": {
        "id": "_XwhiD4So9Gs",
        "colab_type": "text"
      },
      "source": [
        "Convert training and test output from simple class number to 'one hot encoding'. In this encoding we have as many bits as the number of classes.We have binary '1' for bit number corresponding to the class of the input. For other classes we have '0'.\n",
        "\n",
        "eg. '5' == '0 0 0 0 1 0 0 0 0 0' ; '10' == '0 0 0 0 0 0 0 0 0 1'"
      ]
    },
    {
      "cell_type": "code",
      "metadata": {
        "id": "ZG8JiXR39FHC",
        "colab_type": "code",
        "colab": {}
      },
      "source": [
        "\n",
        "# Convert 1-dimensional class arrays to 10-dimensional class matrices\n",
        "Y_train = np_utils.to_categorical(y_train, 10)\n",
        "Y_test = np_utils.to_categorical(y_test, 10)"
      ],
      "execution_count": 0,
      "outputs": []
    },
    {
      "cell_type": "code",
      "metadata": {
        "id": "M1G4VQtd-s9X",
        "colab_type": "code",
        "outputId": "be90ee04-0bd1-4ba7-bb0f-9bd125c22882",
        "colab": {
          "base_uri": "https://localhost:8080/",
          "height": 86
        }
      },
      "source": [
        "# Image Normalization\n",
        "\n",
        "datagen = ImageDataGenerator(featurewise_center=True, featurewise_std_normalization=True)\n",
        "datagen.fit(X_train)\n",
        "\n",
        "print('Before Normalization')\n",
        "print('Training Data Mean: {}  Std: {}'.format(datagen.mean,datagen.std))\n",
        "\n",
        "print('After Normalization')\n",
        "temp_iterator = datagen.flow(X_train, Y_train, batch_size=len(X_train))\n",
        "# get a batch\n",
        "batchX, batchy = temp_iterator.next()\n",
        "# mean pixel value in the batch\n",
        "print('Training Data Mean: {}  Std: {}'.format(batchX.mean(),batchX.std()))\n",
        "\n"
      ],
      "execution_count": 0,
      "outputs": [
        {
          "output_type": "stream",
          "text": [
            "Before Normalization\n",
            "Training Data Mean: [[[0.13066062]]]  Std: [[[0.30810776]]]\n",
            "After Normalization\n",
            "Training Data Mean: -4.944060947309481e-07  Std: 0.9999971985816956\n"
          ],
          "name": "stdout"
        }
      ]
    },
    {
      "cell_type": "markdown",
      "metadata": {
        "colab_type": "text",
        "id": "xLPPXSlfgNRp"
      },
      "source": [
        "# Fourth Code (Final)\n",
        "\n",
        "\n",
        "In this iteration model is same as previous iteration (**model3**) We will be introducing Learning rate scheduler. Instead of using fixed learning rate the scheduler will vary the LR based on Epoch number. It will go on reducing the LR. We will also be using larger batch size for training."
      ]
    },
    {
      "cell_type": "code",
      "metadata": {
        "colab_type": "code",
        "outputId": "f98b808e-e52b-4df4-c349-7a4bf4a95260",
        "id": "O4Dmc3Qdi-Zz",
        "colab": {
          "base_uri": "https://localhost:8080/",
          "height": 1000
        }
      },
      "source": [
        "model = Sequential()\n",
        "                                                                              # RF = 1x1    i/p = 28x28x1     \n",
        "model.add(Convolution2D(8, 3, 3, input_shape=(28,28,1)))  # RF = 3x3    i/p = 28x28x1  kernel = (3x3x1)x8   o/p = 26x26x8\n",
        "model.add(BatchNormalization())      # Batch Normalization\n",
        "model.add(Activation('relu'))\n",
        "model.add(Dropout(0.05))             # DropOut 5%\n",
        "\n",
        "model.add(Convolution2D(12, 3, 3))                        # RF = 5x5    i/p = 26x26x1  kernel = (3x3x8)x12  o/p = 24x24x12\n",
        "model.add(BatchNormalization())      # Batch Normalization\n",
        "model.add(Activation('relu'))\n",
        "model.add(Dropout(0.08))             # DropOut 8%\n",
        "\n",
        "# 1x1 Conv\n",
        "model.add(Convolution2D(8, 1, activation='relu'))                            # RF = 5x5    i/p = 24x24x12 kernel = (1x1x12)x8  o/p = 24x24x8\n",
        "# 2x2 MaxPooling\n",
        "model.add(MaxPooling2D(pool_size=(2, 2)))                                    # RF = 10x10  i/p = 24x24x8  kernel = MaxPool2x2  o/p = 12x12x8\n",
        "\n",
        "model.add(Convolution2D(12, 3, 3))                        # RF = 12x12  i/p = 12x12x8  kernel = (3x3x8)x12  o/p = 10x10x12\n",
        "model.add(BatchNormalization())      # Batch Normalization\n",
        "model.add(Activation('relu'))\n",
        "model.add(Dropout(0.08))             # DropOut 8%\n",
        "\n",
        "model.add(Convolution2D(12, 3, 3))                        # RF = 14x14  i/p = 10x10x12 kernel = (3x3x12)x12 o/p = 8x8x12\n",
        "model.add(BatchNormalization())      # Batch Normalization\n",
        "model.add(Activation('relu'))\n",
        "model.add(Dropout(0.08))             # DropOut 8%\n",
        "\n",
        "model.add(Convolution2D(12, 3, 3))                        # RF = 16x16  i/p =  8x8x12  kernel = (3x3x12)x12 o/p = 6x6x12\n",
        "model.add(BatchNormalization())      # Batch Normalization\n",
        "model.add(Activation('relu'))\n",
        "model.add(Dropout(0.08))             # DropOut 8%\n",
        "\n",
        "# 1x1 Conv\n",
        "model.add(Convolution2D(12, 1))                           # RF = 16x16  i/p = 6x6x12   kernel = (1x1x12)x12 o/p = 6x6x12\n",
        "model.add(BatchNormalization())      # Batch Normalization\n",
        "model.add(Activation('relu'))\n",
        "model.add(Dropout(0.08))             # DropOut 8%\n",
        "\n",
        "model.add(Convolution2D(10, 6, 6))                                           # RF = 21x21  i/p = 6x6x12   kernel = (6x6x12)x10 o/p = 1x1x10\n",
        "\n",
        "model.add(Flatten())                                                         # flatten the 1x1x10 array into 10x1 array\n",
        "model.add(Activation('softmax'))                                             # apply the softmax function to obtain classification weights\n",
        "\n",
        "model.summary()   #Show model information"
      ],
      "execution_count": 0,
      "outputs": [
        {
          "output_type": "stream",
          "text": [
            "/usr/local/lib/python3.6/dist-packages/ipykernel_launcher.py:3: UserWarning: Update your `Conv2D` call to the Keras 2 API: `Conv2D(8, (3, 3), input_shape=(28, 28, 1...)`\n",
            "  This is separate from the ipykernel package so we can avoid doing imports until\n",
            "/usr/local/lib/python3.6/dist-packages/ipykernel_launcher.py:8: UserWarning: Update your `Conv2D` call to the Keras 2 API: `Conv2D(12, (3, 3))`\n",
            "  \n",
            "/usr/local/lib/python3.6/dist-packages/ipykernel_launcher.py:18: UserWarning: Update your `Conv2D` call to the Keras 2 API: `Conv2D(12, (3, 3))`\n",
            "/usr/local/lib/python3.6/dist-packages/ipykernel_launcher.py:23: UserWarning: Update your `Conv2D` call to the Keras 2 API: `Conv2D(12, (3, 3))`\n",
            "/usr/local/lib/python3.6/dist-packages/ipykernel_launcher.py:28: UserWarning: Update your `Conv2D` call to the Keras 2 API: `Conv2D(12, (3, 3))`\n"
          ],
          "name": "stderr"
        },
        {
          "output_type": "stream",
          "text": [
            "Model: \"sequential_2\"\n",
            "_________________________________________________________________\n",
            "Layer (type)                 Output Shape              Param #   \n",
            "=================================================================\n",
            "conv2d_9 (Conv2D)            (None, 26, 26, 8)         80        \n",
            "_________________________________________________________________\n",
            "batch_normalization_7 (Batch (None, 26, 26, 8)         32        \n",
            "_________________________________________________________________\n",
            "activation_8 (Activation)    (None, 26, 26, 8)         0         \n",
            "_________________________________________________________________\n",
            "dropout_7 (Dropout)          (None, 26, 26, 8)         0         \n",
            "_________________________________________________________________\n",
            "conv2d_10 (Conv2D)           (None, 24, 24, 12)        876       \n",
            "_________________________________________________________________\n",
            "batch_normalization_8 (Batch (None, 24, 24, 12)        48        \n",
            "_________________________________________________________________\n",
            "activation_9 (Activation)    (None, 24, 24, 12)        0         \n",
            "_________________________________________________________________\n",
            "dropout_8 (Dropout)          (None, 24, 24, 12)        0         \n",
            "_________________________________________________________________\n",
            "conv2d_11 (Conv2D)           (None, 24, 24, 8)         104       \n",
            "_________________________________________________________________\n",
            "max_pooling2d_2 (MaxPooling2 (None, 12, 12, 8)         0         \n",
            "_________________________________________________________________\n",
            "conv2d_12 (Conv2D)           (None, 10, 10, 12)        876       \n",
            "_________________________________________________________________\n",
            "batch_normalization_9 (Batch (None, 10, 10, 12)        48        \n",
            "_________________________________________________________________\n",
            "activation_10 (Activation)   (None, 10, 10, 12)        0         \n",
            "_________________________________________________________________\n",
            "dropout_9 (Dropout)          (None, 10, 10, 12)        0         \n",
            "_________________________________________________________________\n",
            "conv2d_13 (Conv2D)           (None, 8, 8, 12)          1308      \n",
            "_________________________________________________________________\n",
            "batch_normalization_10 (Batc (None, 8, 8, 12)          48        \n",
            "_________________________________________________________________\n",
            "activation_11 (Activation)   (None, 8, 8, 12)          0         \n",
            "_________________________________________________________________\n",
            "dropout_10 (Dropout)         (None, 8, 8, 12)          0         \n",
            "_________________________________________________________________\n",
            "conv2d_14 (Conv2D)           (None, 6, 6, 12)          1308      \n",
            "_________________________________________________________________\n",
            "batch_normalization_11 (Batc (None, 6, 6, 12)          48        \n",
            "_________________________________________________________________\n",
            "activation_12 (Activation)   (None, 6, 6, 12)          0         \n",
            "_________________________________________________________________\n",
            "dropout_11 (Dropout)         (None, 6, 6, 12)          0         \n",
            "_________________________________________________________________\n",
            "conv2d_15 (Conv2D)           (None, 6, 6, 12)          156       \n",
            "_________________________________________________________________\n",
            "batch_normalization_12 (Batc (None, 6, 6, 12)          48        \n",
            "_________________________________________________________________\n",
            "activation_13 (Activation)   (None, 6, 6, 12)          0         \n",
            "_________________________________________________________________\n",
            "dropout_12 (Dropout)         (None, 6, 6, 12)          0         \n",
            "_________________________________________________________________\n",
            "conv2d_16 (Conv2D)           (None, 1, 1, 10)          4330      \n",
            "_________________________________________________________________\n",
            "flatten_2 (Flatten)          (None, 10)                0         \n",
            "_________________________________________________________________\n",
            "activation_14 (Activation)   (None, 10)                0         \n",
            "=================================================================\n",
            "Total params: 9,310\n",
            "Trainable params: 9,174\n",
            "Non-trainable params: 136\n",
            "_________________________________________________________________\n"
          ],
          "name": "stdout"
        },
        {
          "output_type": "stream",
          "text": [
            "/usr/local/lib/python3.6/dist-packages/ipykernel_launcher.py:39: UserWarning: Update your `Conv2D` call to the Keras 2 API: `Conv2D(10, (6, 6))`\n"
          ],
          "name": "stderr"
        }
      ]
    },
    {
      "cell_type": "code",
      "metadata": {
        "id": "QInAnfJDopva",
        "colab_type": "code",
        "outputId": "0a33763a-6a61-403d-f3cc-0a46befc7a8f",
        "colab": {
          "base_uri": "https://localhost:8080/",
          "height": 34
        }
      },
      "source": [
        "from google.colab import drive\n",
        "from keras.callbacks import ModelCheckpoint\n",
        "\n",
        "\n",
        "\n",
        "drive.mount('/content/gdrive')\n",
        "\n",
        "#fileName = '/content/gdrive/My Drive/TSAI/Session5/Model-{epoch:02d}-{val_acc:.4f}.hdf5'\n",
        "fileName = '/content/gdrive/My Drive/TSAI/Session5/Best-Model.hdf5'\n",
        "checkpoint = ModelCheckpoint(fileName,monitor='val_acc', verbose=1, save_best_only=True, mode='auto')"
      ],
      "execution_count": 0,
      "outputs": [
        {
          "output_type": "stream",
          "text": [
            "Drive already mounted at /content/gdrive; to attempt to forcibly remount, call drive.mount(\"/content/gdrive\", force_remount=True).\n"
          ],
          "name": "stdout"
        }
      ]
    },
    {
      "cell_type": "code",
      "metadata": {
        "id": "F5PapbwrhNXY",
        "colab_type": "code",
        "colab": {}
      },
      "source": [
        "import keras.backend as K\n",
        "\n",
        "def custom_Loss(y_true,y_pred):\n",
        "  lamda = 0.02\n",
        "  \n",
        "  def L2_From_Layers(modelLayers):\n",
        "    numOfWts = 0\n",
        "    wtSqSum = 0\n",
        "    for layer in modelLayers:\n",
        "      if (layer.get_weights() != []):\n",
        "        wtSqSum += np.sum(np.sum(np.square((layer.get_weights()))))               # sum of squares of all the layer weights\n",
        "        numOfWts += layer.get_weights()[0].size                            # calculate number of weights\n",
        "    \n",
        "    L2Norm = wtSqSum / (2*numOfWts)\n",
        "    return L2Norm\n",
        "        \n",
        "  totalLoss = K.categorical_crossentropy(y_true,y_pred) + lamda * L2_From_Layers(model.layers)\n",
        "  return totalLoss"
      ],
      "execution_count": 0,
      "outputs": []
    },
    {
      "cell_type": "code",
      "metadata": {
        "colab_type": "code",
        "outputId": "badfb0b3-af30-4287-ce23-66474c7bd8f2",
        "id": "Fkr7JElm-sFd",
        "colab": {
          "base_uri": "https://localhost:8080/",
          "height": 1000
        }
      },
      "source": [
        "from keras.optimizers import Adam\n",
        "from keras.callbacks import LearningRateScheduler\n",
        "def scheduler(epoch, lr):\n",
        "  return round(0.009 * 1/(1 + 0.9 * epoch), 10)\n",
        "\n",
        "model.compile(loss='categorical_crossentropy', optimizer=Adam(lr=0.009), metrics=['accuracy', custom_Loss])\n",
        "\n",
        "\n",
        "BS=128\n",
        "\n",
        "train_iterator = datagen.flow(X_train, Y_train, batch_size = BS,shuffle=False)\n",
        "test_iterator = datagen.flow(X_test, Y_test, batch_size=len(X_test),shuffle=False)\n",
        "\n",
        "\n",
        "\n",
        "#model.fit(X_train, Y_train, batch_size=128, epochs=5, verbose=1, validation_data=(X_test, Y_test), callbacks=[LearningRateScheduler(scheduler, verbose=1)])\n",
        "model.fit_generator(train_iterator, steps_per_epoch=(len(X_train)//BS), epochs=40, verbose=1, validation_data = test_iterator, validation_steps = 1,\n",
        "                    callbacks=[LearningRateScheduler(scheduler, verbose=1),checkpoint])"
      ],
      "execution_count": 0,
      "outputs": [
        {
          "output_type": "stream",
          "text": [
            "Epoch 1/40\n",
            "\n",
            "Epoch 00001: LearningRateScheduler setting learning rate to 0.009.\n",
            "468/468 [==============================] - 15s 32ms/step - loss: 0.1869 - acc: 0.9394 - custom_Loss: 0.1871 - val_loss: 0.0931 - val_acc: 0.9710 - val_custom_Loss: 0.0934\n",
            "\n",
            "Epoch 00001: val_acc improved from -inf to 0.97100, saving model to /content/gdrive/My Drive/TSAI/Session5/Best-Model.hdf5\n",
            "Epoch 2/40\n",
            "\n",
            "Epoch 00002: LearningRateScheduler setting learning rate to 0.0047368421.\n",
            "468/468 [==============================] - 13s 27ms/step - loss: 0.0610 - acc: 0.9816 - custom_Loss: 0.0612 - val_loss: 0.0356 - val_acc: 0.9879 - val_custom_Loss: 0.0358\n",
            "\n",
            "Epoch 00002: val_acc improved from 0.97100 to 0.98790, saving model to /content/gdrive/My Drive/TSAI/Session5/Best-Model.hdf5\n",
            "Epoch 3/40\n",
            "\n",
            "Epoch 00003: LearningRateScheduler setting learning rate to 0.0032142857.\n",
            "468/468 [==============================] - 12s 26ms/step - loss: 0.0491 - acc: 0.9845 - custom_Loss: 0.0494 - val_loss: 0.0340 - val_acc: 0.9892 - val_custom_Loss: 0.0342\n",
            "\n",
            "Epoch 00003: val_acc improved from 0.98790 to 0.98920, saving model to /content/gdrive/My Drive/TSAI/Session5/Best-Model.hdf5\n",
            "Epoch 4/40\n",
            "\n",
            "Epoch 00004: LearningRateScheduler setting learning rate to 0.0024324324.\n",
            "468/468 [==============================] - 12s 25ms/step - loss: 0.0399 - acc: 0.9872 - custom_Loss: 0.0402 - val_loss: 0.0347 - val_acc: 0.9896 - val_custom_Loss: 0.0350\n",
            "\n",
            "Epoch 00004: val_acc improved from 0.98920 to 0.98960, saving model to /content/gdrive/My Drive/TSAI/Session5/Best-Model.hdf5\n",
            "Epoch 5/40\n",
            "\n",
            "Epoch 00005: LearningRateScheduler setting learning rate to 0.0019565217.\n",
            "468/468 [==============================] - 12s 25ms/step - loss: 0.0374 - acc: 0.9881 - custom_Loss: 0.0377 - val_loss: 0.0274 - val_acc: 0.9915 - val_custom_Loss: 0.0276\n",
            "\n",
            "Epoch 00005: val_acc improved from 0.98960 to 0.99150, saving model to /content/gdrive/My Drive/TSAI/Session5/Best-Model.hdf5\n",
            "Epoch 6/40\n",
            "\n",
            "Epoch 00006: LearningRateScheduler setting learning rate to 0.0016363636.\n",
            "468/468 [==============================] - 12s 25ms/step - loss: 0.0338 - acc: 0.9892 - custom_Loss: 0.0341 - val_loss: 0.0254 - val_acc: 0.9920 - val_custom_Loss: 0.0256\n",
            "\n",
            "Epoch 00006: val_acc improved from 0.99150 to 0.99200, saving model to /content/gdrive/My Drive/TSAI/Session5/Best-Model.hdf5\n",
            "Epoch 7/40\n",
            "\n",
            "Epoch 00007: LearningRateScheduler setting learning rate to 0.00140625.\n",
            "468/468 [==============================] - 12s 25ms/step - loss: 0.0319 - acc: 0.9900 - custom_Loss: 0.0321 - val_loss: 0.0250 - val_acc: 0.9924 - val_custom_Loss: 0.0252\n",
            "\n",
            "Epoch 00007: val_acc improved from 0.99200 to 0.99240, saving model to /content/gdrive/My Drive/TSAI/Session5/Best-Model.hdf5\n",
            "Epoch 8/40\n",
            "\n",
            "Epoch 00008: LearningRateScheduler setting learning rate to 0.0012328767.\n",
            "468/468 [==============================] - 11s 24ms/step - loss: 0.0304 - acc: 0.9903 - custom_Loss: 0.0307 - val_loss: 0.0246 - val_acc: 0.9924 - val_custom_Loss: 0.0249\n",
            "\n",
            "Epoch 00008: val_acc did not improve from 0.99240\n",
            "Epoch 9/40\n",
            "\n",
            "Epoch 00009: LearningRateScheduler setting learning rate to 0.001097561.\n",
            "468/468 [==============================] - 11s 24ms/step - loss: 0.0284 - acc: 0.9908 - custom_Loss: 0.0286 - val_loss: 0.0252 - val_acc: 0.9926 - val_custom_Loss: 0.0254\n",
            "\n",
            "Epoch 00009: val_acc improved from 0.99240 to 0.99260, saving model to /content/gdrive/My Drive/TSAI/Session5/Best-Model.hdf5\n",
            "Epoch 10/40\n",
            "\n",
            "Epoch 00010: LearningRateScheduler setting learning rate to 0.000989011.\n",
            "468/468 [==============================] - 12s 25ms/step - loss: 0.0265 - acc: 0.9916 - custom_Loss: 0.0267 - val_loss: 0.0235 - val_acc: 0.9933 - val_custom_Loss: 0.0238\n",
            "\n",
            "Epoch 00010: val_acc improved from 0.99260 to 0.99330, saving model to /content/gdrive/My Drive/TSAI/Session5/Best-Model.hdf5\n",
            "Epoch 11/40\n",
            "\n",
            "Epoch 00011: LearningRateScheduler setting learning rate to 0.0009.\n",
            "468/468 [==============================] - 11s 24ms/step - loss: 0.0272 - acc: 0.9915 - custom_Loss: 0.0274 - val_loss: 0.0235 - val_acc: 0.9922 - val_custom_Loss: 0.0238\n",
            "\n",
            "Epoch 00011: val_acc did not improve from 0.99330\n",
            "Epoch 12/40\n",
            "\n",
            "Epoch 00012: LearningRateScheduler setting learning rate to 0.0008256881.\n",
            "468/468 [==============================] - 11s 24ms/step - loss: 0.0263 - acc: 0.9914 - custom_Loss: 0.0265 - val_loss: 0.0215 - val_acc: 0.9937 - val_custom_Loss: 0.0218\n",
            "\n",
            "Epoch 00012: val_acc improved from 0.99330 to 0.99370, saving model to /content/gdrive/My Drive/TSAI/Session5/Best-Model.hdf5\n",
            "Epoch 13/40\n",
            "\n",
            "Epoch 00013: LearningRateScheduler setting learning rate to 0.0007627119.\n",
            "468/468 [==============================] - 11s 24ms/step - loss: 0.0243 - acc: 0.9922 - custom_Loss: 0.0245 - val_loss: 0.0214 - val_acc: 0.9933 - val_custom_Loss: 0.0216\n",
            "\n",
            "Epoch 00013: val_acc did not improve from 0.99370\n",
            "Epoch 14/40\n",
            "\n",
            "Epoch 00014: LearningRateScheduler setting learning rate to 0.0007086614.\n",
            "468/468 [==============================] - 11s 24ms/step - loss: 0.0242 - acc: 0.9924 - custom_Loss: 0.0245 - val_loss: 0.0241 - val_acc: 0.9922 - val_custom_Loss: 0.0243\n",
            "\n",
            "Epoch 00014: val_acc did not improve from 0.99370\n",
            "Epoch 15/40\n",
            "\n",
            "Epoch 00015: LearningRateScheduler setting learning rate to 0.0006617647.\n",
            "468/468 [==============================] - 11s 24ms/step - loss: 0.0230 - acc: 0.9926 - custom_Loss: 0.0233 - val_loss: 0.0229 - val_acc: 0.9934 - val_custom_Loss: 0.0231\n",
            "\n",
            "Epoch 00015: val_acc did not improve from 0.99370\n",
            "Epoch 16/40\n",
            "\n",
            "Epoch 00016: LearningRateScheduler setting learning rate to 0.0006206897.\n",
            "468/468 [==============================] - 11s 24ms/step - loss: 0.0224 - acc: 0.9929 - custom_Loss: 0.0226 - val_loss: 0.0211 - val_acc: 0.9937 - val_custom_Loss: 0.0213\n",
            "\n",
            "Epoch 00016: val_acc did not improve from 0.99370\n",
            "Epoch 17/40\n",
            "\n",
            "Epoch 00017: LearningRateScheduler setting learning rate to 0.0005844156.\n",
            "468/468 [==============================] - 11s 24ms/step - loss: 0.0217 - acc: 0.9930 - custom_Loss: 0.0219 - val_loss: 0.0212 - val_acc: 0.9934 - val_custom_Loss: 0.0215\n",
            "\n",
            "Epoch 00017: val_acc did not improve from 0.99370\n",
            "Epoch 18/40\n",
            "\n",
            "Epoch 00018: LearningRateScheduler setting learning rate to 0.0005521472.\n",
            "468/468 [==============================] - 11s 24ms/step - loss: 0.0222 - acc: 0.9930 - custom_Loss: 0.0224 - val_loss: 0.0221 - val_acc: 0.9929 - val_custom_Loss: 0.0224\n",
            "\n",
            "Epoch 00018: val_acc did not improve from 0.99370\n",
            "Epoch 19/40\n",
            "\n",
            "Epoch 00019: LearningRateScheduler setting learning rate to 0.0005232558.\n",
            "468/468 [==============================] - 11s 24ms/step - loss: 0.0221 - acc: 0.9929 - custom_Loss: 0.0223 - val_loss: 0.0234 - val_acc: 0.9923 - val_custom_Loss: 0.0237\n",
            "\n",
            "Epoch 00019: val_acc did not improve from 0.99370\n",
            "Epoch 20/40\n",
            "\n",
            "Epoch 00020: LearningRateScheduler setting learning rate to 0.0004972376.\n",
            "468/468 [==============================] - 11s 24ms/step - loss: 0.0205 - acc: 0.9933 - custom_Loss: 0.0207 - val_loss: 0.0228 - val_acc: 0.9928 - val_custom_Loss: 0.0230\n",
            "\n",
            "Epoch 00020: val_acc did not improve from 0.99370\n",
            "Epoch 21/40\n",
            "\n",
            "Epoch 00021: LearningRateScheduler setting learning rate to 0.0004736842.\n",
            "468/468 [==============================] - 11s 24ms/step - loss: 0.0208 - acc: 0.9928 - custom_Loss: 0.0211 - val_loss: 0.0205 - val_acc: 0.9935 - val_custom_Loss: 0.0208\n",
            "\n",
            "Epoch 00021: val_acc did not improve from 0.99370\n",
            "Epoch 22/40\n",
            "\n",
            "Epoch 00022: LearningRateScheduler setting learning rate to 0.0004522613.\n",
            "468/468 [==============================] - 11s 25ms/step - loss: 0.0199 - acc: 0.9936 - custom_Loss: 0.0201 - val_loss: 0.0205 - val_acc: 0.9934 - val_custom_Loss: 0.0208\n",
            "\n",
            "Epoch 00022: val_acc did not improve from 0.99370\n",
            "Epoch 23/40\n",
            "\n",
            "Epoch 00023: LearningRateScheduler setting learning rate to 0.0004326923.\n",
            "468/468 [==============================] - 11s 24ms/step - loss: 0.0212 - acc: 0.9934 - custom_Loss: 0.0215 - val_loss: 0.0227 - val_acc: 0.9937 - val_custom_Loss: 0.0229\n",
            "\n",
            "Epoch 00023: val_acc did not improve from 0.99370\n",
            "Epoch 24/40\n",
            "\n",
            "Epoch 00024: LearningRateScheduler setting learning rate to 0.0004147465.\n",
            "468/468 [==============================] - 11s 24ms/step - loss: 0.0190 - acc: 0.9937 - custom_Loss: 0.0193 - val_loss: 0.0215 - val_acc: 0.9932 - val_custom_Loss: 0.0218\n",
            "\n",
            "Epoch 00024: val_acc did not improve from 0.99370\n",
            "Epoch 25/40\n",
            "\n",
            "Epoch 00025: LearningRateScheduler setting learning rate to 0.0003982301.\n",
            "468/468 [==============================] - 11s 24ms/step - loss: 0.0196 - acc: 0.9933 - custom_Loss: 0.0198 - val_loss: 0.0218 - val_acc: 0.9935 - val_custom_Loss: 0.0220\n",
            "\n",
            "Epoch 00025: val_acc did not improve from 0.99370\n",
            "Epoch 26/40\n",
            "\n",
            "Epoch 00026: LearningRateScheduler setting learning rate to 0.0003829787.\n",
            "468/468 [==============================] - 12s 25ms/step - loss: 0.0188 - acc: 0.9941 - custom_Loss: 0.0190 - val_loss: 0.0221 - val_acc: 0.9935 - val_custom_Loss: 0.0224\n",
            "\n",
            "Epoch 00026: val_acc did not improve from 0.99370\n",
            "Epoch 27/40\n",
            "\n",
            "Epoch 00027: LearningRateScheduler setting learning rate to 0.0003688525.\n",
            "468/468 [==============================] - 11s 24ms/step - loss: 0.0189 - acc: 0.9937 - custom_Loss: 0.0191 - val_loss: 0.0202 - val_acc: 0.9938 - val_custom_Loss: 0.0204\n",
            "\n",
            "Epoch 00027: val_acc improved from 0.99370 to 0.99380, saving model to /content/gdrive/My Drive/TSAI/Session5/Best-Model.hdf5\n",
            "Epoch 28/40\n",
            "\n",
            "Epoch 00028: LearningRateScheduler setting learning rate to 0.0003557312.\n",
            "468/468 [==============================] - 11s 24ms/step - loss: 0.0183 - acc: 0.9943 - custom_Loss: 0.0185 - val_loss: 0.0210 - val_acc: 0.9932 - val_custom_Loss: 0.0212\n",
            "\n",
            "Epoch 00028: val_acc did not improve from 0.99380\n",
            "Epoch 29/40\n",
            "\n",
            "Epoch 00029: LearningRateScheduler setting learning rate to 0.0003435115.\n",
            "468/468 [==============================] - 11s 24ms/step - loss: 0.0180 - acc: 0.9939 - custom_Loss: 0.0182 - val_loss: 0.0214 - val_acc: 0.9933 - val_custom_Loss: 0.0217\n",
            "\n",
            "Epoch 00029: val_acc did not improve from 0.99380\n",
            "Epoch 30/40\n",
            "\n",
            "Epoch 00030: LearningRateScheduler setting learning rate to 0.0003321033.\n",
            "468/468 [==============================] - 12s 26ms/step - loss: 0.0183 - acc: 0.9941 - custom_Loss: 0.0185 - val_loss: 0.0224 - val_acc: 0.9936 - val_custom_Loss: 0.0226\n",
            "\n",
            "Epoch 00030: val_acc did not improve from 0.99380\n",
            "Epoch 31/40\n",
            "\n",
            "Epoch 00031: LearningRateScheduler setting learning rate to 0.0003214286.\n",
            "468/468 [==============================] - 12s 26ms/step - loss: 0.0181 - acc: 0.9942 - custom_Loss: 0.0183 - val_loss: 0.0221 - val_acc: 0.9936 - val_custom_Loss: 0.0224\n",
            "\n",
            "Epoch 00031: val_acc did not improve from 0.99380\n",
            "Epoch 32/40\n",
            "\n",
            "Epoch 00032: LearningRateScheduler setting learning rate to 0.0003114187.\n",
            "468/468 [==============================] - 11s 24ms/step - loss: 0.0179 - acc: 0.9943 - custom_Loss: 0.0181 - val_loss: 0.0208 - val_acc: 0.9936 - val_custom_Loss: 0.0211\n",
            "\n",
            "Epoch 00032: val_acc did not improve from 0.99380\n",
            "Epoch 33/40\n",
            "\n",
            "Epoch 00033: LearningRateScheduler setting learning rate to 0.0003020134.\n",
            "468/468 [==============================] - 11s 24ms/step - loss: 0.0180 - acc: 0.9940 - custom_Loss: 0.0182 - val_loss: 0.0213 - val_acc: 0.9941 - val_custom_Loss: 0.0216\n",
            "\n",
            "Epoch 00033: val_acc improved from 0.99380 to 0.99410, saving model to /content/gdrive/My Drive/TSAI/Session5/Best-Model.hdf5\n",
            "Epoch 34/40\n",
            "\n",
            "Epoch 00034: LearningRateScheduler setting learning rate to 0.0002931596.\n",
            "468/468 [==============================] - 12s 25ms/step - loss: 0.0176 - acc: 0.9943 - custom_Loss: 0.0178 - val_loss: 0.0211 - val_acc: 0.9937 - val_custom_Loss: 0.0214\n",
            "\n",
            "Epoch 00034: val_acc did not improve from 0.99410\n",
            "Epoch 35/40\n",
            "\n",
            "Epoch 00035: LearningRateScheduler setting learning rate to 0.0002848101.\n",
            "468/468 [==============================] - 12s 26ms/step - loss: 0.0164 - acc: 0.9948 - custom_Loss: 0.0166 - val_loss: 0.0206 - val_acc: 0.9942 - val_custom_Loss: 0.0209\n",
            "\n",
            "Epoch 00035: val_acc improved from 0.99410 to 0.99420, saving model to /content/gdrive/My Drive/TSAI/Session5/Best-Model.hdf5\n",
            "Epoch 36/40\n",
            "\n",
            "Epoch 00036: LearningRateScheduler setting learning rate to 0.0002769231.\n",
            "468/468 [==============================] - 12s 25ms/step - loss: 0.0164 - acc: 0.9946 - custom_Loss: 0.0167 - val_loss: 0.0218 - val_acc: 0.9935 - val_custom_Loss: 0.0221\n",
            "\n",
            "Epoch 00036: val_acc did not improve from 0.99420\n",
            "Epoch 37/40\n",
            "\n",
            "Epoch 00037: LearningRateScheduler setting learning rate to 0.0002694611.\n",
            "468/468 [==============================] - 11s 24ms/step - loss: 0.0166 - acc: 0.9945 - custom_Loss: 0.0168 - val_loss: 0.0201 - val_acc: 0.9938 - val_custom_Loss: 0.0204\n",
            "\n",
            "Epoch 00037: val_acc did not improve from 0.99420\n",
            "Epoch 38/40\n",
            "\n",
            "Epoch 00038: LearningRateScheduler setting learning rate to 0.0002623907.\n",
            "468/468 [==============================] - 11s 24ms/step - loss: 0.0175 - acc: 0.9942 - custom_Loss: 0.0178 - val_loss: 0.0212 - val_acc: 0.9937 - val_custom_Loss: 0.0214\n",
            "\n",
            "Epoch 00038: val_acc did not improve from 0.99420\n",
            "Epoch 39/40\n",
            "\n",
            "Epoch 00039: LearningRateScheduler setting learning rate to 0.0002556818.\n",
            "468/468 [==============================] - 12s 25ms/step - loss: 0.0164 - acc: 0.9945 - custom_Loss: 0.0167 - val_loss: 0.0210 - val_acc: 0.9941 - val_custom_Loss: 0.0213\n",
            "\n",
            "Epoch 00039: val_acc did not improve from 0.99420\n",
            "Epoch 40/40\n",
            "\n",
            "Epoch 00040: LearningRateScheduler setting learning rate to 0.0002493075.\n",
            "468/468 [==============================] - 11s 24ms/step - loss: 0.0160 - acc: 0.9946 - custom_Loss: 0.0162 - val_loss: 0.0207 - val_acc: 0.9940 - val_custom_Loss: 0.0209\n",
            "\n",
            "Epoch 00040: val_acc did not improve from 0.99420\n"
          ],
          "name": "stdout"
        },
        {
          "output_type": "execute_result",
          "data": {
            "text/plain": [
              "<keras.callbacks.History at 0x7f3a7aa256a0>"
            ]
          },
          "metadata": {
            "tags": []
          },
          "execution_count": 16
        }
      ]
    },
    {
      "cell_type": "code",
      "metadata": {
        "id": "sbNzDT9_NfVc",
        "colab_type": "code",
        "outputId": "efa055f4-08a5-47ea-e3d0-5f24d7df493d",
        "colab": {
          "base_uri": "https://localhost:8080/",
          "height": 971
        }
      },
      "source": [
        "import matplotlib.pyplot as plt\n",
        "\n",
        "#y_pred = model.predict(X_test)\n",
        "y_pred = model.predict_generator(test_iterator,steps=1)\n",
        "predictedDigits = np.argmax(y_pred,axis =1)\n",
        "\n",
        "rows = 5\n",
        "cols = 5\n",
        "\n",
        "f, axarr = plt.subplots(rows,cols)\n",
        "i = 0\n",
        "count = 0\n",
        "while ((count < rows*cols) and (i < X_test.shape[0])):\n",
        "       if(predictedDigits[i] != y_test[i]):\n",
        "            axarr[count // rows][count % cols].imshow(XTest[i])\n",
        "            axarr[count // rows][count % cols].set_title('Predicted:{} / Actual:{}'.format(predictedDigits[i],y_test[i]),fontsize=12)\n",
        "            axarr[count // rows][count % cols].axis('off')\n",
        "            count += 1\n",
        "       \n",
        "       i +=  1\n",
        "             \n",
        "    \n",
        "f.subplots_adjust(hspace=0.2)    \n",
        "f.suptitle('List of Missclassified images', fontsize=25)\n",
        "f.set_size_inches(15,15)\n",
        "    \n",
        "    "
      ],
      "execution_count": 0,
      "outputs": [
        {
          "output_type": "display_data",
          "data": {
            "image/png": "[encoded data removed]",
            "text/plain": [
              "<Figure size 1080x1080 with 25 Axes>"
            ]
          },
          "metadata": {
            "tags": []
          }
        }
      ]
    },
    {
      "cell_type": "code",
      "metadata": {
        "id": "mISr9ySS6qjV",
        "colab_type": "code",
        "colab": {}
      },
      "source": [
        "model.load_weights(\"/content/gdrive/My Drive/TSAI/Session5/Best-Model.hdf5\")"
      ],
      "execution_count": 0,
      "outputs": []
    },
    {
      "cell_type": "code",
      "metadata": {
        "colab_type": "code",
        "outputId": "ceec94ec-9d7a-4f22-994c-a120024b72d0",
        "id": "4hZMN67d_qsb",
        "colab": {
          "base_uri": "https://localhost:8080/",
          "height": 971
        }
      },
      "source": [
        "import matplotlib.pyplot as plt\n",
        "\n",
        "#y_pred = model.predict(X_test)\n",
        "y_pred = model.predict_generator(test_iterator,steps=1)\n",
        "predictedDigits = np.argmax(y_pred,axis =1)\n",
        "\n",
        "rows = 5\n",
        "cols = 5\n",
        "\n",
        "f, axarr = plt.subplots(rows,cols)\n",
        "i = 0\n",
        "count = 0\n",
        "while ((count < rows*cols) and (i < X_test.shape[0])):\n",
        "       if(predictedDigits[i] != y_test[i]):\n",
        "            axarr[count // rows][count % cols].imshow(XTest[i])\n",
        "            axarr[count // rows][count % cols].set_title('Predicted:{} / Actual:{}'.format(predictedDigits[i],y_test[i]),fontsize=12)\n",
        "            axarr[count // rows][count % cols].axis('off')\n",
        "            count += 1\n",
        "       \n",
        "       i +=  1\n",
        "             \n",
        "    \n",
        "f.subplots_adjust(hspace=0.2)    \n",
        "f.suptitle('List of Missclassified images', fontsize=25)\n",
        "f.set_size_inches(15,15)\n",
        "    \n",
        "    "
      ],
      "execution_count": 0,
      "outputs": [
        {
          "output_type": "display_data",
          "data": {
            "image/png": "[encoded data removed]",
            "text/plain": [
              "<Figure size 1080x1080 with 25 Axes>"
            ]
          },
          "metadata": {
            "tags": []
          }
        }
      ]
    }
  ]
}