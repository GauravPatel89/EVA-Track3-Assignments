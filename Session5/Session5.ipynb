{
  "nbformat": 4,
  "nbformat_minor": 0,
  "metadata": {
    "colab": {
      "name": "Session5.ipynb",
      "provenance": [],
      "collapsed_sections": [],
      "include_colab_link": true
    },
    "kernelspec": {
      "name": "python3",
      "display_name": "Python 3"
    },
    "accelerator": "GPU"
  },
  "cells": [
    {
      "cell_type": "markdown",
      "metadata": {
        "id": "view-in-github",
        "colab_type": "text"
      },
      "source": [
        "<a href=\"https://colab.research.google.com/github/GauravPatel89/EVA-Track3-Assignments/blob/master/Session5/Session5.ipynb\" target=\"_parent\"><img src=\"https://colab.research.google.com/assets/colab-badge.svg\" alt=\"Open In Colab\"/></a>"
      ]
    },
    {
      "cell_type": "code",
      "metadata": {
        "id": "3m3w1Cw49Zkt",
        "colab_type": "code",
        "colab": {}
      },
      "source": [
        "# Import keras\n",
        "\n",
        "import keras"
      ],
      "execution_count": 0,
      "outputs": []
    },
    {
      "cell_type": "markdown",
      "metadata": {
        "id": "mysmkrBjl8b0",
        "colab_type": "text"
      },
      "source": [
        "Import the different packages to use in our code.\n",
        "\n",
        "Last line imports the MNIST dataset"
      ]
    },
    {
      "cell_type": "code",
      "metadata": {
        "id": "Eso6UHE080D4",
        "colab_type": "code",
        "colab": {}
      },
      "source": [
        "#Import different packages to use in our code\n",
        "\n",
        "import numpy as np\n",
        "\n",
        "from keras.models import Sequential\n",
        "from keras.layers import Dense, Dropout, Activation, Flatten, Add, BatchNormalization\n",
        "from keras.layers import Convolution2D, MaxPooling2D\n",
        "from keras.utils import np_utils\n",
        "from keras.callbacks import EarlyStopping, ModelCheckpoint,Callback\n",
        "from keras.preprocessing.image import ImageDataGenerator\n",
        "\n",
        "#Import MNIST dataset to use in our code\n",
        "from keras.datasets import mnist"
      ],
      "execution_count": 0,
      "outputs": []
    },
    {
      "cell_type": "markdown",
      "metadata": {
        "id": "zByEi95J86RD",
        "colab_type": "text"
      },
      "source": [
        "### Load pre-shuffled MNIST data into train and test sets\n",
        "\n",
        "Load MNIST dataset\n",
        "\n",
        "X_train - input training data\n",
        "\n",
        "y_train - training outputs corresponding to X_train\n",
        "\n",
        "X_test - input testing data\n",
        "\n",
        "y_test - testing outputs corresponding to X_test"
      ]
    },
    {
      "cell_type": "code",
      "metadata": {
        "id": "7eRM0QWN83PV",
        "colab_type": "code",
        "colab": {}
      },
      "source": [
        "(X_train, y_train), (X_test, y_test) = mnist.load_data()\n",
        "\n",
        "XTest = X_test   # make a copy of X_test as we will be modifying X_test"
      ],
      "execution_count": 0,
      "outputs": []
    },
    {
      "cell_type": "markdown",
      "metadata": {
        "id": "evenqcZ0owVA",
        "colab_type": "text"
      },
      "source": [
        "Change the dimensionality of X_train and X_test from 60000x28x28 to 60000x28x28x1\n",
        "We are adding one more level of dimension to the input. "
      ]
    },
    {
      "cell_type": "code",
      "metadata": {
        "id": "dkmprriw9AnZ",
        "colab_type": "code",
        "colab": {}
      },
      "source": [
        "X_train = X_train.reshape(X_train.shape[0], 28, 28,1)\n",
        "X_test = X_test.reshape(X_test.shape[0], 28, 28,1)"
      ],
      "execution_count": 0,
      "outputs": []
    },
    {
      "cell_type": "code",
      "metadata": {
        "id": "X2m4YS4E9CRh",
        "colab_type": "code",
        "colab": {}
      },
      "source": [
        "# Image standardization (Divide all the pixel values by max pixel values)\n",
        "X_train = X_train.astype('float32')\n",
        "X_test = X_test.astype('float32')\n",
        "X_train /= 255\n",
        "X_test /= 255"
      ],
      "execution_count": 0,
      "outputs": []
    },
    {
      "cell_type": "markdown",
      "metadata": {
        "id": "_XwhiD4So9Gs",
        "colab_type": "text"
      },
      "source": [
        "Convert training and test output from simple class number to 'one hot encoding'. In this encoding we have as many bits as the number of classes.We have binary '1' for bit number corresponding to the class of the input. For other classes we have '0'.\n",
        "\n",
        "eg. '5' == '0 0 0 0 1 0 0 0 0 0' ; '10' == '0 0 0 0 0 0 0 0 0 1'"
      ]
    },
    {
      "cell_type": "code",
      "metadata": {
        "id": "ZG8JiXR39FHC",
        "colab_type": "code",
        "colab": {}
      },
      "source": [
        "Y_train = np_utils.to_categorical(y_train, 10)\n",
        "Y_test = np_utils.to_categorical(y_test, 10)"
      ],
      "execution_count": 0,
      "outputs": []
    },
    {
      "cell_type": "code",
      "metadata": {
        "id": "M1G4VQtd-s9X",
        "colab_type": "code",
        "outputId": "0a48d3ba-91aa-4e3b-eab6-4473758fb0c0",
        "colab": {
          "base_uri": "https://localhost:8080/",
          "height": 90
        }
      },
      "source": [
        "# Image Normalization \n",
        "# use keras ImageDataGenerator. \n",
        "# 'featurewise_center' function subtracts batch mean from all the batch images to make it zero mean\n",
        "# 'featurewise_std_normalization' function divides batch images with std of batch. \n",
        "\n",
        "datagen = ImageDataGenerator(featurewise_center=True, featurewise_std_normalization=True)\n",
        "\n",
        "# Fit dataGenerator to X_train. This calculates stats for X_train.\n",
        "datagen.fit(X_train)\n",
        "\n",
        "# Verify Data normalization\n",
        "print('Before Normalization')\n",
        "print('Training Data Mean: {}  Std: {}'.format(datagen.mean,datagen.std))\n",
        "\n",
        "print('After Normalization')\n",
        "temp_iterator = datagen.flow(X_train, Y_train, batch_size=len(X_train))\n",
        "batchX, batchy = temp_iterator.next()\n",
        "print('Training Data Mean: {}  Std: {}'.format(batchX.mean(),batchX.std()))\n",
        "\n"
      ],
      "execution_count": 9,
      "outputs": [
        {
          "output_type": "stream",
          "text": [
            "Before Normalization\n",
            "Training Data Mean: [[[0.13066062]]]  Std: [[[0.30810776]]]\n",
            "After Normalization\n",
            "Training Data Mean: -4.942880877933931e-07  Std: 0.9999983906745911\n"
          ],
          "name": "stdout"
        }
      ]
    },
    {
      "cell_type": "code",
      "metadata": {
        "colab_type": "code",
        "outputId": "e5d66f80-895e-4000-c454-8400d745037e",
        "id": "O4Dmc3Qdi-Zz",
        "colab": {
          "base_uri": "https://localhost:8080/",
          "height": 1000
        }
      },
      "source": [
        "# Create a model\n",
        "model = Sequential()\n",
        "                                                                              # RF = 1x1    i/p = 28x28x1     \n",
        "model.add(Convolution2D(8, 3, 3, input_shape=(28,28,1)))  # RF = 3x3    i/p = 28x28x1  kernel = (3x3x1)x8   o/p = 26x26x8\n",
        "model.add(BatchNormalization())      # Batch Normalization\n",
        "model.add(Activation('relu'))        # ReLU activation\n",
        "model.add(Dropout(0.05))             # DropOut 5%\n",
        "\n",
        "model.add(Convolution2D(12, 3, 3))                        # RF = 5x5    i/p = 26x26x1  kernel = (3x3x8)x12  o/p = 24x24x12\n",
        "model.add(BatchNormalization())      # Batch Normalization\n",
        "model.add(Activation('relu'))        # ReLU activation\n",
        "model.add(Dropout(0.08))             # DropOut 8%\n",
        "\n",
        "# 1x1 Conv\n",
        "model.add(Convolution2D(8, 1, activation='relu'))                            # RF = 5x5    i/p = 24x24x12 kernel = (1x1x12)x8  o/p = 24x24x8\n",
        "# 2x2 MaxPooling\n",
        "model.add(MaxPooling2D(pool_size=(2, 2)))                                    # RF = 10x10  i/p = 24x24x8  kernel = MaxPool2x2  o/p = 12x12x8\n",
        "\n",
        "model.add(Convolution2D(12, 3, 3))                        # RF = 12x12  i/p = 12x12x8  kernel = (3x3x8)x12  o/p = 10x10x12\n",
        "model.add(BatchNormalization())      # Batch Normalization\n",
        "model.add(Activation('relu'))        # ReLU activation\n",
        "model.add(Dropout(0.08))             # DropOut 8%\n",
        "\n",
        "model.add(Convolution2D(12, 3, 3))                        # RF = 14x14  i/p = 10x10x12 kernel = (3x3x12)x12 o/p = 8x8x12\n",
        "model.add(BatchNormalization())      # Batch Normalization\n",
        "model.add(Activation('relu'))        # ReLU activation\n",
        "model.add(Dropout(0.08))             # DropOut 8%\n",
        "\n",
        "model.add(Convolution2D(12, 3, 3))                        # RF = 16x16  i/p =  8x8x12  kernel = (3x3x12)x12 o/p = 6x6x12\n",
        "model.add(BatchNormalization())      # Batch Normalization\n",
        "model.add(Activation('relu'))        # ReLU activation\n",
        "model.add(Dropout(0.08))             # DropOut 8%\n",
        "\n",
        "# 1x1 Conv\n",
        "model.add(Convolution2D(12, 1))                           # RF = 16x16  i/p = 6x6x12   kernel = (1x1x12)x12 o/p = 6x6x12\n",
        "model.add(BatchNormalization())      # Batch Normalization\n",
        "model.add(Activation('relu'))        # ReLU activation\n",
        "model.add(Dropout(0.08))             # DropOut 8%\n",
        "\n",
        "model.add(Convolution2D(10, 6, 6))                                           # RF = 21x21  i/p = 6x6x12   kernel = (6x6x12)x10 o/p = 1x1x10\n",
        "\n",
        "model.add(Flatten())                                                         # flatten the 1x1x10 array into 10x1 array\n",
        "model.add(Activation('softmax'))                                             # apply the softmax function to obtain classification weights\n",
        "\n",
        "model.summary()   #Show model information"
      ],
      "execution_count": 14,
      "outputs": [
        {
          "output_type": "stream",
          "text": [
            "/usr/local/lib/python3.6/dist-packages/ipykernel_launcher.py:3: UserWarning: Update your `Conv2D` call to the Keras 2 API: `Conv2D(8, (3, 3), input_shape=(28, 28, 1...)`\n",
            "  This is separate from the ipykernel package so we can avoid doing imports until\n",
            "/usr/local/lib/python3.6/dist-packages/ipykernel_launcher.py:8: UserWarning: Update your `Conv2D` call to the Keras 2 API: `Conv2D(12, (3, 3))`\n",
            "  \n",
            "/usr/local/lib/python3.6/dist-packages/ipykernel_launcher.py:18: UserWarning: Update your `Conv2D` call to the Keras 2 API: `Conv2D(12, (3, 3))`\n",
            "/usr/local/lib/python3.6/dist-packages/ipykernel_launcher.py:23: UserWarning: Update your `Conv2D` call to the Keras 2 API: `Conv2D(12, (3, 3))`\n",
            "/usr/local/lib/python3.6/dist-packages/ipykernel_launcher.py:28: UserWarning: Update your `Conv2D` call to the Keras 2 API: `Conv2D(12, (3, 3))`\n"
          ],
          "name": "stderr"
        },
        {
          "output_type": "stream",
          "text": [
            "Model: \"sequential_2\"\n",
            "_________________________________________________________________\n",
            "Layer (type)                 Output Shape              Param #   \n",
            "=================================================================\n",
            "conv2d_9 (Conv2D)            (None, 26, 26, 8)         80        \n",
            "_________________________________________________________________\n",
            "batch_normalization_7 (Batch (None, 26, 26, 8)         32        \n",
            "_________________________________________________________________\n",
            "activation_8 (Activation)    (None, 26, 26, 8)         0         \n",
            "_________________________________________________________________\n",
            "dropout_7 (Dropout)          (None, 26, 26, 8)         0         \n",
            "_________________________________________________________________\n",
            "conv2d_10 (Conv2D)           (None, 24, 24, 12)        876       \n",
            "_________________________________________________________________\n",
            "batch_normalization_8 (Batch (None, 24, 24, 12)        48        \n",
            "_________________________________________________________________\n",
            "activation_9 (Activation)    (None, 24, 24, 12)        0         \n",
            "_________________________________________________________________\n",
            "dropout_8 (Dropout)          (None, 24, 24, 12)        0         \n",
            "_________________________________________________________________\n",
            "conv2d_11 (Conv2D)           (None, 24, 24, 8)         104       \n",
            "_________________________________________________________________\n",
            "max_pooling2d_2 (MaxPooling2 (None, 12, 12, 8)         0         \n",
            "_________________________________________________________________\n",
            "conv2d_12 (Conv2D)           (None, 10, 10, 12)        876       \n",
            "_________________________________________________________________\n",
            "batch_normalization_9 (Batch (None, 10, 10, 12)        48        \n",
            "_________________________________________________________________\n",
            "activation_10 (Activation)   (None, 10, 10, 12)        0         \n",
            "_________________________________________________________________\n",
            "dropout_9 (Dropout)          (None, 10, 10, 12)        0         \n",
            "_________________________________________________________________\n",
            "conv2d_13 (Conv2D)           (None, 8, 8, 12)          1308      \n",
            "_________________________________________________________________\n",
            "batch_normalization_10 (Batc (None, 8, 8, 12)          48        \n",
            "_________________________________________________________________\n",
            "activation_11 (Activation)   (None, 8, 8, 12)          0         \n",
            "_________________________________________________________________\n",
            "dropout_10 (Dropout)         (None, 8, 8, 12)          0         \n",
            "_________________________________________________________________\n",
            "conv2d_14 (Conv2D)           (None, 6, 6, 12)          1308      \n",
            "_________________________________________________________________\n",
            "batch_normalization_11 (Batc (None, 6, 6, 12)          48        \n",
            "_________________________________________________________________\n",
            "activation_12 (Activation)   (None, 6, 6, 12)          0         \n",
            "_________________________________________________________________\n",
            "dropout_11 (Dropout)         (None, 6, 6, 12)          0         \n",
            "_________________________________________________________________\n",
            "conv2d_15 (Conv2D)           (None, 6, 6, 12)          156       \n",
            "_________________________________________________________________\n",
            "batch_normalization_12 (Batc (None, 6, 6, 12)          48        \n",
            "_________________________________________________________________\n",
            "activation_13 (Activation)   (None, 6, 6, 12)          0         \n",
            "_________________________________________________________________\n",
            "dropout_12 (Dropout)         (None, 6, 6, 12)          0         \n",
            "_________________________________________________________________\n",
            "conv2d_16 (Conv2D)           (None, 1, 1, 10)          4330      \n",
            "_________________________________________________________________\n",
            "flatten_2 (Flatten)          (None, 10)                0         \n",
            "_________________________________________________________________\n",
            "activation_14 (Activation)   (None, 10)                0         \n",
            "=================================================================\n",
            "Total params: 9,310\n",
            "Trainable params: 9,174\n",
            "Non-trainable params: 136\n",
            "_________________________________________________________________\n"
          ],
          "name": "stdout"
        },
        {
          "output_type": "stream",
          "text": [
            "/usr/local/lib/python3.6/dist-packages/ipykernel_launcher.py:39: UserWarning: Update your `Conv2D` call to the Keras 2 API: `Conv2D(10, (6, 6))`\n"
          ],
          "name": "stderr"
        }
      ]
    },
    {
      "cell_type": "code",
      "metadata": {
        "id": "QInAnfJDopva",
        "colab_type": "code",
        "outputId": "acd83702-5953-4012-a4b5-15c91729c9ea",
        "colab": {
          "base_uri": "https://localhost:8080/",
          "height": 35
        }
      },
      "source": [
        "# Setup checkpoint callback\n",
        "\n",
        "from google.colab import drive\n",
        "from keras.callbacks import ModelCheckpoint\n",
        "\n",
        "# mount google drive to save best model \n",
        "drive.mount('/content/gdrive')\n",
        "\n",
        "\n",
        "#fileName = '/content/gdrive/My Drive/TSAI/Session5/Model-{epoch:02d}-{val_acc:.4f}.hdf5'\n",
        "# File name of best model\n",
        "fileName = '/content/gdrive/My Drive/TSAI/Session5/Best-Model.hdf5'\n",
        "# Monitor Validation accuracy and each time accuracy improves, overwrite the model in 'fileName' \n",
        "checkpoint = ModelCheckpoint(fileName,monitor='val_acc', verbose=1, save_best_only=True, mode='auto')"
      ],
      "execution_count": 15,
      "outputs": [
        {
          "output_type": "stream",
          "text": [
            "Drive already mounted at /content/gdrive; to attempt to forcibly remount, call drive.mount(\"/content/gdrive\", force_remount=True).\n"
          ],
          "name": "stdout"
        }
      ]
    },
    {
      "cell_type": "code",
      "metadata": {
        "id": "F5PapbwrhNXY",
        "colab_type": "code",
        "colab": {}
      },
      "source": [
        "# Define custom loss function in this code block\n",
        "\n",
        "import keras.backend as K\n",
        "\n",
        "def custom_Loss(y_true,y_pred):\n",
        "  lamda = 0.03\n",
        "  \n",
        "  # Calculate L2 norm for given Model Layers\n",
        "  def L2_From_Layers(modelLayers):\n",
        "    numOfWts = 0\n",
        "    wtSqSum = 0\n",
        "    # Traverse each layer in the model\n",
        "    for layer in modelLayers:\n",
        "      # traverse each array of the layer\n",
        "      for arr in (layer.get_weights()):     \n",
        "        wtSqSum += np.sum(np.sum(np.square(arr)))       # sum of squares of all the weights\n",
        "        numOfWts += arr.size                            # calculate number of weights\n",
        "    \n",
        "    L2Norm = wtSqSum / (2*numOfWts)                     # Calculate L2 Norm according to equation\n",
        "    return L2Norm\n",
        "  \n",
        "  # we add L2 Norm to crossentropy loss to define new loss function\n",
        "  totalLoss = K.categorical_crossentropy(y_true,y_pred) + lamda * L2_From_Layers(model.layers)\n",
        "  return totalLoss"
      ],
      "execution_count": 0,
      "outputs": []
    },
    {
      "cell_type": "code",
      "metadata": {
        "colab_type": "code",
        "outputId": "754103af-12ff-4be0-df14-76597138345b",
        "id": "Fkr7JElm-sFd",
        "colab": {
          "base_uri": "https://localhost:8080/",
          "height": 1000
        }
      },
      "source": [
        "from keras.optimizers import Adam\n",
        "from keras.callbacks import LearningRateScheduler\n",
        "\n",
        "# define learning rate scheduler. It varies learning rate with epoch value\n",
        "def scheduler(epoch, lr):\n",
        "  return round(0.009 * 1/(1 + 0.9 * epoch), 10)\n",
        "\n",
        "model.compile(loss='categorical_crossentropy', optimizer=Adam(lr=0.009), metrics=['accuracy', custom_Loss])\n",
        "\n",
        "\n",
        "# Define how should ImageDataGenerator provide training batch and test batch with defined image augmentation\n",
        "BS=128\n",
        "train_iterator = datagen.flow(X_train, Y_train, batch_size = BS,shuffle=False)\n",
        "test_iterator = datagen.flow(X_test, Y_test, batch_size=len(X_test),shuffle=False)\n",
        "\n",
        "#Train the model for 40 epochs with batch generated by ImageDataGenrator\n",
        "\n",
        "#model.fit(X_train, Y_train, batch_size=128, epochs=5, verbose=1, validation_data=(X_test, Y_test), callbacks=[LearningRateScheduler(scheduler, verbose=1)])\n",
        "model.fit_generator(train_iterator, steps_per_epoch=(len(X_train)//BS), epochs=40, verbose=1, validation_data = test_iterator, validation_steps = 1,\n",
        "                    callbacks=[LearningRateScheduler(scheduler, verbose=1),checkpoint])"
      ],
      "execution_count": 18,
      "outputs": [
        {
          "output_type": "stream",
          "text": [
            "Epoch 1/40\n",
            "\n",
            "Epoch 00001: LearningRateScheduler setting learning rate to 0.009.\n",
            "468/468 [==============================] - 15s 31ms/step - loss: 0.1925 - acc: 0.9395 - custom_Loss: 0.1928 - val_loss: 0.0707 - val_acc: 0.9776 - val_custom_Loss: 0.0711\n",
            "\n",
            "Epoch 00001: val_acc improved from -inf to 0.97760, saving model to /content/gdrive/My Drive/TSAI/Session5/Best-Model.hdf5\n",
            "Epoch 2/40\n",
            "\n",
            "Epoch 00002: LearningRateScheduler setting learning rate to 0.0047368421.\n",
            "468/468 [==============================] - 12s 26ms/step - loss: 0.0650 - acc: 0.9797 - custom_Loss: 0.0654 - val_loss: 0.0391 - val_acc: 0.9872 - val_custom_Loss: 0.0394\n",
            "\n",
            "Epoch 00002: val_acc improved from 0.97760 to 0.98720, saving model to /content/gdrive/My Drive/TSAI/Session5/Best-Model.hdf5\n",
            "Epoch 3/40\n",
            "\n",
            "Epoch 00003: LearningRateScheduler setting learning rate to 0.0032142857.\n",
            "468/468 [==============================] - 12s 25ms/step - loss: 0.0512 - acc: 0.9839 - custom_Loss: 0.0515 - val_loss: 0.0340 - val_acc: 0.9896 - val_custom_Loss: 0.0344\n",
            "\n",
            "Epoch 00003: val_acc improved from 0.98720 to 0.98960, saving model to /content/gdrive/My Drive/TSAI/Session5/Best-Model.hdf5\n",
            "Epoch 4/40\n",
            "\n",
            "Epoch 00004: LearningRateScheduler setting learning rate to 0.0024324324.\n",
            "468/468 [==============================] - 11s 24ms/step - loss: 0.0439 - acc: 0.9860 - custom_Loss: 0.0443 - val_loss: 0.0247 - val_acc: 0.9921 - val_custom_Loss: 0.0250\n",
            "\n",
            "Epoch 00004: val_acc improved from 0.98960 to 0.99210, saving model to /content/gdrive/My Drive/TSAI/Session5/Best-Model.hdf5\n",
            "Epoch 5/40\n",
            "\n",
            "Epoch 00005: LearningRateScheduler setting learning rate to 0.0019565217.\n",
            "468/468 [==============================] - 11s 23ms/step - loss: 0.0382 - acc: 0.9881 - custom_Loss: 0.0385 - val_loss: 0.0254 - val_acc: 0.9928 - val_custom_Loss: 0.0257\n",
            "\n",
            "Epoch 00005: val_acc improved from 0.99210 to 0.99280, saving model to /content/gdrive/My Drive/TSAI/Session5/Best-Model.hdf5\n",
            "Epoch 6/40\n",
            "\n",
            "Epoch 00006: LearningRateScheduler setting learning rate to 0.0016363636.\n",
            "468/468 [==============================] - 11s 24ms/step - loss: 0.0351 - acc: 0.9888 - custom_Loss: 0.0354 - val_loss: 0.0272 - val_acc: 0.9918 - val_custom_Loss: 0.0276\n",
            "\n",
            "Epoch 00006: val_acc did not improve from 0.99280\n",
            "Epoch 7/40\n",
            "\n",
            "Epoch 00007: LearningRateScheduler setting learning rate to 0.00140625.\n",
            "468/468 [==============================] - 11s 24ms/step - loss: 0.0335 - acc: 0.9893 - custom_Loss: 0.0339 - val_loss: 0.0232 - val_acc: 0.9927 - val_custom_Loss: 0.0236\n",
            "\n",
            "Epoch 00007: val_acc did not improve from 0.99280\n",
            "Epoch 8/40\n",
            "\n",
            "Epoch 00008: LearningRateScheduler setting learning rate to 0.0012328767.\n",
            "468/468 [==============================] - 11s 23ms/step - loss: 0.0303 - acc: 0.9900 - custom_Loss: 0.0307 - val_loss: 0.0227 - val_acc: 0.9930 - val_custom_Loss: 0.0230\n",
            "\n",
            "Epoch 00008: val_acc improved from 0.99280 to 0.99300, saving model to /content/gdrive/My Drive/TSAI/Session5/Best-Model.hdf5\n",
            "Epoch 9/40\n",
            "\n",
            "Epoch 00009: LearningRateScheduler setting learning rate to 0.001097561.\n",
            "468/468 [==============================] - 11s 23ms/step - loss: 0.0305 - acc: 0.9900 - custom_Loss: 0.0308 - val_loss: 0.0224 - val_acc: 0.9927 - val_custom_Loss: 0.0227\n",
            "\n",
            "Epoch 00009: val_acc did not improve from 0.99300\n",
            "Epoch 10/40\n",
            "\n",
            "Epoch 00010: LearningRateScheduler setting learning rate to 0.000989011.\n",
            "468/468 [==============================] - 11s 23ms/step - loss: 0.0276 - acc: 0.9912 - custom_Loss: 0.0279 - val_loss: 0.0235 - val_acc: 0.9932 - val_custom_Loss: 0.0239\n",
            "\n",
            "Epoch 00010: val_acc improved from 0.99300 to 0.99320, saving model to /content/gdrive/My Drive/TSAI/Session5/Best-Model.hdf5\n",
            "Epoch 11/40\n",
            "\n",
            "Epoch 00011: LearningRateScheduler setting learning rate to 0.0009.\n",
            "468/468 [==============================] - 12s 25ms/step - loss: 0.0260 - acc: 0.9917 - custom_Loss: 0.0264 - val_loss: 0.0215 - val_acc: 0.9933 - val_custom_Loss: 0.0218\n",
            "\n",
            "Epoch 00011: val_acc improved from 0.99320 to 0.99330, saving model to /content/gdrive/My Drive/TSAI/Session5/Best-Model.hdf5\n",
            "Epoch 12/40\n",
            "\n",
            "Epoch 00012: LearningRateScheduler setting learning rate to 0.0008256881.\n",
            "468/468 [==============================] - 12s 25ms/step - loss: 0.0254 - acc: 0.9920 - custom_Loss: 0.0258 - val_loss: 0.0209 - val_acc: 0.9937 - val_custom_Loss: 0.0212\n",
            "\n",
            "Epoch 00012: val_acc improved from 0.99330 to 0.99370, saving model to /content/gdrive/My Drive/TSAI/Session5/Best-Model.hdf5\n",
            "Epoch 13/40\n",
            "\n",
            "Epoch 00013: LearningRateScheduler setting learning rate to 0.0007627119.\n",
            "468/468 [==============================] - 11s 24ms/step - loss: 0.0250 - acc: 0.9919 - custom_Loss: 0.0253 - val_loss: 0.0221 - val_acc: 0.9932 - val_custom_Loss: 0.0224\n",
            "\n",
            "Epoch 00013: val_acc did not improve from 0.99370\n",
            "Epoch 14/40\n",
            "\n",
            "Epoch 00014: LearningRateScheduler setting learning rate to 0.0007086614.\n",
            "468/468 [==============================] - 11s 23ms/step - loss: 0.0247 - acc: 0.9917 - custom_Loss: 0.0250 - val_loss: 0.0203 - val_acc: 0.9939 - val_custom_Loss: 0.0207\n",
            "\n",
            "Epoch 00014: val_acc improved from 0.99370 to 0.99390, saving model to /content/gdrive/My Drive/TSAI/Session5/Best-Model.hdf5\n",
            "Epoch 15/40\n",
            "\n",
            "Epoch 00015: LearningRateScheduler setting learning rate to 0.0006617647.\n",
            "468/468 [==============================] - 11s 23ms/step - loss: 0.0237 - acc: 0.9921 - custom_Loss: 0.0240 - val_loss: 0.0198 - val_acc: 0.9937 - val_custom_Loss: 0.0201\n",
            "\n",
            "Epoch 00015: val_acc did not improve from 0.99390\n",
            "Epoch 16/40\n",
            "\n",
            "Epoch 00016: LearningRateScheduler setting learning rate to 0.0006206897.\n",
            "468/468 [==============================] - 11s 24ms/step - loss: 0.0234 - acc: 0.9925 - custom_Loss: 0.0237 - val_loss: 0.0203 - val_acc: 0.9935 - val_custom_Loss: 0.0207\n",
            "\n",
            "Epoch 00016: val_acc did not improve from 0.99390\n",
            "Epoch 17/40\n",
            "\n",
            "Epoch 00017: LearningRateScheduler setting learning rate to 0.0005844156.\n",
            "468/468 [==============================] - 11s 23ms/step - loss: 0.0211 - acc: 0.9931 - custom_Loss: 0.0214 - val_loss: 0.0188 - val_acc: 0.9945 - val_custom_Loss: 0.0191\n",
            "\n",
            "Epoch 00017: val_acc improved from 0.99390 to 0.99450, saving model to /content/gdrive/My Drive/TSAI/Session5/Best-Model.hdf5\n",
            "Epoch 18/40\n",
            "\n",
            "Epoch 00018: LearningRateScheduler setting learning rate to 0.0005521472.\n",
            "468/468 [==============================] - 11s 23ms/step - loss: 0.0212 - acc: 0.9931 - custom_Loss: 0.0215 - val_loss: 0.0190 - val_acc: 0.9937 - val_custom_Loss: 0.0193\n",
            "\n",
            "Epoch 00018: val_acc did not improve from 0.99450\n",
            "Epoch 19/40\n",
            "\n",
            "Epoch 00019: LearningRateScheduler setting learning rate to 0.0005232558.\n",
            "468/468 [==============================] - 11s 23ms/step - loss: 0.0213 - acc: 0.9930 - custom_Loss: 0.0216 - val_loss: 0.0187 - val_acc: 0.9936 - val_custom_Loss: 0.0191\n",
            "\n",
            "Epoch 00019: val_acc did not improve from 0.99450\n",
            "Epoch 20/40\n",
            "\n",
            "Epoch 00020: LearningRateScheduler setting learning rate to 0.0004972376.\n",
            "468/468 [==============================] - 11s 24ms/step - loss: 0.0207 - acc: 0.9927 - custom_Loss: 0.0210 - val_loss: 0.0200 - val_acc: 0.9944 - val_custom_Loss: 0.0204\n",
            "\n",
            "Epoch 00020: val_acc did not improve from 0.99450\n",
            "Epoch 21/40\n",
            "\n",
            "Epoch 00021: LearningRateScheduler setting learning rate to 0.0004736842.\n",
            "468/468 [==============================] - 11s 23ms/step - loss: 0.0216 - acc: 0.9930 - custom_Loss: 0.0219 - val_loss: 0.0191 - val_acc: 0.9944 - val_custom_Loss: 0.0194\n",
            "\n",
            "Epoch 00021: val_acc did not improve from 0.99450\n",
            "Epoch 22/40\n",
            "\n",
            "Epoch 00022: LearningRateScheduler setting learning rate to 0.0004522613.\n",
            "468/468 [==============================] - 11s 23ms/step - loss: 0.0204 - acc: 0.9934 - custom_Loss: 0.0207 - val_loss: 0.0193 - val_acc: 0.9940 - val_custom_Loss: 0.0196\n",
            "\n",
            "Epoch 00022: val_acc did not improve from 0.99450\n",
            "Epoch 23/40\n",
            "\n",
            "Epoch 00023: LearningRateScheduler setting learning rate to 0.0004326923.\n",
            "468/468 [==============================] - 11s 23ms/step - loss: 0.0197 - acc: 0.9931 - custom_Loss: 0.0200 - val_loss: 0.0187 - val_acc: 0.9944 - val_custom_Loss: 0.0191\n",
            "\n",
            "Epoch 00023: val_acc did not improve from 0.99450\n",
            "Epoch 24/40\n",
            "\n",
            "Epoch 00024: LearningRateScheduler setting learning rate to 0.0004147465.\n",
            "468/468 [==============================] - 11s 23ms/step - loss: 0.0198 - acc: 0.9932 - custom_Loss: 0.0202 - val_loss: 0.0182 - val_acc: 0.9944 - val_custom_Loss: 0.0185\n",
            "\n",
            "Epoch 00024: val_acc did not improve from 0.99450\n",
            "Epoch 25/40\n",
            "\n",
            "Epoch 00025: LearningRateScheduler setting learning rate to 0.0003982301.\n",
            "468/468 [==============================] - 12s 25ms/step - loss: 0.0203 - acc: 0.9929 - custom_Loss: 0.0206 - val_loss: 0.0190 - val_acc: 0.9944 - val_custom_Loss: 0.0194\n",
            "\n",
            "Epoch 00025: val_acc did not improve from 0.99450\n",
            "Epoch 26/40\n",
            "\n",
            "Epoch 00026: LearningRateScheduler setting learning rate to 0.0003829787.\n",
            "468/468 [==============================] - 12s 25ms/step - loss: 0.0187 - acc: 0.9935 - custom_Loss: 0.0190 - val_loss: 0.0199 - val_acc: 0.9938 - val_custom_Loss: 0.0202\n",
            "\n",
            "Epoch 00026: val_acc did not improve from 0.99450\n",
            "Epoch 27/40\n",
            "\n",
            "Epoch 00027: LearningRateScheduler setting learning rate to 0.0003688525.\n",
            "468/468 [==============================] - 11s 24ms/step - loss: 0.0193 - acc: 0.9936 - custom_Loss: 0.0196 - val_loss: 0.0187 - val_acc: 0.9940 - val_custom_Loss: 0.0191\n",
            "\n",
            "Epoch 00027: val_acc did not improve from 0.99450\n",
            "Epoch 28/40\n",
            "\n",
            "Epoch 00028: LearningRateScheduler setting learning rate to 0.0003557312.\n",
            "468/468 [==============================] - 11s 23ms/step - loss: 0.0194 - acc: 0.9935 - custom_Loss: 0.0197 - val_loss: 0.0185 - val_acc: 0.9942 - val_custom_Loss: 0.0189\n",
            "\n",
            "Epoch 00028: val_acc did not improve from 0.99450\n",
            "Epoch 29/40\n",
            "\n",
            "Epoch 00029: LearningRateScheduler setting learning rate to 0.0003435115.\n",
            "468/468 [==============================] - 11s 24ms/step - loss: 0.0188 - acc: 0.9940 - custom_Loss: 0.0192 - val_loss: 0.0188 - val_acc: 0.9942 - val_custom_Loss: 0.0192\n",
            "\n",
            "Epoch 00029: val_acc did not improve from 0.99450\n",
            "Epoch 30/40\n",
            "\n",
            "Epoch 00030: LearningRateScheduler setting learning rate to 0.0003321033.\n",
            "468/468 [==============================] - 11s 24ms/step - loss: 0.0192 - acc: 0.9940 - custom_Loss: 0.0196 - val_loss: 0.0177 - val_acc: 0.9949 - val_custom_Loss: 0.0181\n",
            "\n",
            "Epoch 00030: val_acc improved from 0.99450 to 0.99490, saving model to /content/gdrive/My Drive/TSAI/Session5/Best-Model.hdf5\n",
            "Epoch 31/40\n",
            "\n",
            "Epoch 00031: LearningRateScheduler setting learning rate to 0.0003214286.\n",
            "468/468 [==============================] - 11s 24ms/step - loss: 0.0185 - acc: 0.9934 - custom_Loss: 0.0188 - val_loss: 0.0189 - val_acc: 0.9939 - val_custom_Loss: 0.0192\n",
            "\n",
            "Epoch 00031: val_acc did not improve from 0.99490\n",
            "Epoch 32/40\n",
            "\n",
            "Epoch 00032: LearningRateScheduler setting learning rate to 0.0003114187.\n",
            "468/468 [==============================] - 11s 23ms/step - loss: 0.0177 - acc: 0.9944 - custom_Loss: 0.0180 - val_loss: 0.0189 - val_acc: 0.9943 - val_custom_Loss: 0.0192\n",
            "\n",
            "Epoch 00032: val_acc did not improve from 0.99490\n",
            "Epoch 33/40\n",
            "\n",
            "Epoch 00033: LearningRateScheduler setting learning rate to 0.0003020134.\n",
            "468/468 [==============================] - 11s 23ms/step - loss: 0.0168 - acc: 0.9942 - custom_Loss: 0.0171 - val_loss: 0.0192 - val_acc: 0.9937 - val_custom_Loss: 0.0195\n",
            "\n",
            "Epoch 00033: val_acc did not improve from 0.99490\n",
            "Epoch 34/40\n",
            "\n",
            "Epoch 00034: LearningRateScheduler setting learning rate to 0.0002931596.\n",
            "468/468 [==============================] - 11s 24ms/step - loss: 0.0165 - acc: 0.9943 - custom_Loss: 0.0169 - val_loss: 0.0193 - val_acc: 0.9942 - val_custom_Loss: 0.0197\n",
            "\n",
            "Epoch 00034: val_acc did not improve from 0.99490\n",
            "Epoch 35/40\n",
            "\n",
            "Epoch 00035: LearningRateScheduler setting learning rate to 0.0002848101.\n",
            "468/468 [==============================] - 12s 25ms/step - loss: 0.0171 - acc: 0.9944 - custom_Loss: 0.0174 - val_loss: 0.0181 - val_acc: 0.9942 - val_custom_Loss: 0.0184\n",
            "\n",
            "Epoch 00035: val_acc did not improve from 0.99490\n",
            "Epoch 36/40\n",
            "\n",
            "Epoch 00036: LearningRateScheduler setting learning rate to 0.0002769231.\n",
            "468/468 [==============================] - 11s 24ms/step - loss: 0.0182 - acc: 0.9938 - custom_Loss: 0.0185 - val_loss: 0.0186 - val_acc: 0.9944 - val_custom_Loss: 0.0190\n",
            "\n",
            "Epoch 00036: val_acc did not improve from 0.99490\n",
            "Epoch 37/40\n",
            "\n",
            "Epoch 00037: LearningRateScheduler setting learning rate to 0.0002694611.\n",
            "468/468 [==============================] - 11s 23ms/step - loss: 0.0183 - acc: 0.9937 - custom_Loss: 0.0186 - val_loss: 0.0194 - val_acc: 0.9944 - val_custom_Loss: 0.0197\n",
            "\n",
            "Epoch 00037: val_acc did not improve from 0.99490\n",
            "Epoch 38/40\n",
            "\n",
            "Epoch 00038: LearningRateScheduler setting learning rate to 0.0002623907.\n",
            "468/468 [==============================] - 11s 23ms/step - loss: 0.0162 - acc: 0.9946 - custom_Loss: 0.0165 - val_loss: 0.0182 - val_acc: 0.9947 - val_custom_Loss: 0.0185\n",
            "\n",
            "Epoch 00038: val_acc did not improve from 0.99490\n",
            "Epoch 39/40\n",
            "\n",
            "Epoch 00039: LearningRateScheduler setting learning rate to 0.0002556818.\n",
            "468/468 [==============================] - 11s 23ms/step - loss: 0.0175 - acc: 0.9939 - custom_Loss: 0.0178 - val_loss: 0.0190 - val_acc: 0.9938 - val_custom_Loss: 0.0193\n",
            "\n",
            "Epoch 00039: val_acc did not improve from 0.99490\n",
            "Epoch 40/40\n",
            "\n",
            "Epoch 00040: LearningRateScheduler setting learning rate to 0.0002493075.\n",
            "468/468 [==============================] - 11s 23ms/step - loss: 0.0174 - acc: 0.9944 - custom_Loss: 0.0178 - val_loss: 0.0190 - val_acc: 0.9943 - val_custom_Loss: 0.0194\n",
            "\n",
            "Epoch 00040: val_acc did not improve from 0.99490\n"
          ],
          "name": "stdout"
        },
        {
          "output_type": "execute_result",
          "data": {
            "text/plain": [
              "<keras.callbacks.History at 0x7f0fce4c95c0>"
            ]
          },
          "metadata": {
            "tags": []
          },
          "execution_count": 18
        }
      ]
    },
    {
      "cell_type": "code",
      "metadata": {
        "colab_type": "code",
        "outputId": "b17ca3ff-fdf4-4f8e-9321-3dcd354ddd79",
        "id": "4hZMN67d_qsb",
        "colab": {
          "base_uri": "https://localhost:8080/",
          "height": 971
        }
      },
      "source": [
        "import matplotlib.pyplot as plt\n",
        "\n",
        "# Load the best model saved during the training\n",
        "model.load_weights(\"/content/gdrive/My Drive/TSAI/Session5/Best-Model.hdf5\")\n",
        "\n",
        "# Generate an iterator to generated normalized testdata\n",
        "test_iterator = datagen.flow(X_test, Y_test, batch_size=len(X_test),shuffle=False)\n",
        "\n",
        "# Make pedictions for test data using the trained model\n",
        "y_pred = model.predict_generator(test_iterator,steps=1)\n",
        "\n",
        "# Get the actual class values from one hot encoded y_pred\n",
        "predictedDigits = np.argmax(y_pred,axis =1)\n",
        "\n",
        "# Set number of rows and columns for gallery of misclassified images\n",
        "rows = 5\n",
        "cols = 5\n",
        "\n",
        "# Generate a rows x cols sized image grid \n",
        "f, axarr = plt.subplots(rows,cols)\n",
        "\n",
        "i = 0\n",
        "count = 0\n",
        "while ((count < rows*cols) and (i < X_test.shape[0])):\n",
        "       if(predictedDigits[i] != y_test[i]):\n",
        "            axarr[count // rows][count % cols].imshow(XTest[i])\n",
        "            axarr[count // rows][count % cols].set_title('Predicted:{} / Actual:{}'.format(predictedDigits[i],y_test[i]),fontsize=12)\n",
        "            axarr[count // rows][count % cols].axis('off')\n",
        "            count += 1\n",
        "       \n",
        "       i +=  1\n",
        "             \n",
        "    \n",
        "f.subplots_adjust(hspace=0.2)    \n",
        "f.suptitle('List of Missclassified images', fontsize=25)\n",
        "f.set_size_inches(15,15)\n",
        "    \n",
        "    "
      ],
      "execution_count": 19,
      "outputs": [
        {
          "output_type": "display_data",
          "data": {
            "image/png": "[encoded data removed]",
            "text/plain": [
              "<Figure size 1080x1080 with 25 Axes>"
            ]
          },
          "metadata": {
            "tags": []
          }
        }
      ]
    }
  ]
}